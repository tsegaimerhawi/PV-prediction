{
 "cells": [
  {
   "cell_type": "code",
   "id": "initial_id",
   "metadata": {
    "collapsed": true,
    "ExecuteTime": {
     "end_time": "2024-11-01T10:08:21.466581Z",
     "start_time": "2024-11-01T10:08:21.304458Z"
    }
   },
   "source": [
    "import tensorflow as tf\n",
    "import os\n",
    "import seaborn as sns\n",
    "import pandas as pd\n",
    "import numpy as np\n",
    "import matplotlib as plt\n",
    "from sklearn.metrics import mean_squared_error as mse\n",
    "from sklearn.preprocessing import MinMaxScaler\n",
    "import warnings\n",
    "import matplotlib.pyplot as plt\n",
    "warnings.filterwarnings('ignore')\n",
    "%matplotlib inline"
   ],
   "outputs": [],
   "execution_count": 3
  },
  {
   "metadata": {
    "ExecuteTime": {
     "end_time": "2024-11-01T10:08:22.930805Z",
     "start_time": "2024-11-01T10:08:22.820752Z"
    }
   },
   "cell_type": "code",
   "source": "df = pd.read_csv('timeseries.csv')",
   "id": "36cf2e5f702eb644",
   "outputs": [],
   "execution_count": 4
  },
  {
   "metadata": {
    "ExecuteTime": {
     "end_time": "2024-11-01T10:11:00.504557Z",
     "start_time": "2024-11-01T10:11:00.451101Z"
    }
   },
   "cell_type": "code",
   "source": [
    "df = df.dropna(subset=['time']) \n",
    "df['time'].tail(20)\n",
    "# df['time'][78886]"
   ],
   "id": "68803a265bde9de5",
   "outputs": [
    {
     "data": {
      "text/plain": [
       "96418                                        20201231:1007\n",
       "96419                                        20201231:1107\n",
       "96420                                        20201231:1207\n",
       "96421                                        20201231:1307\n",
       "96422                                        20201231:1407\n",
       "96423                                        20201231:1507\n",
       "96424                                        20201231:1607\n",
       "96425                                        20201231:1707\n",
       "96426                                        20201231:1807\n",
       "96427                                        20201231:1907\n",
       "96428                                        20201231:2007\n",
       "96429                                        20201231:2107\n",
       "96430                                        20201231:2207\n",
       "96431                                        20201231:2307\n",
       "96433    G(i): Global irradiance on the inclined plane ...\n",
       "96434                           H_sun: Sun height (degree)\n",
       "96435            T2m: 2-m air temperature (degree Celsius)\n",
       "96436                   WS10m: 10-m total wind speed (m/s)\n",
       "96437    Int: 1 means solar radiation values are recons...\n",
       "96441                             PVGIS (c) European Union\n",
       "Name: time, dtype: object"
      ]
     },
     "execution_count": 5,
     "metadata": {},
     "output_type": "execute_result"
    }
   ],
   "execution_count": 5
  },
  {
   "metadata": {
    "ExecuteTime": {
     "end_time": "2024-11-01T10:11:07.002813Z",
     "start_time": "2024-11-01T10:11:06.961003Z"
    }
   },
   "cell_type": "code",
   "source": [
    "df = df[:96431:]  # Truncate the DataFrame to include only the first 96,431 rows.\n",
    "\n",
    "df_multi = df.iloc[:,1:5]  # Select columns from index 1 to 4 (inclusive), typically removing the time column assuming it's at index 0.\n",
    "\n",
    "df.tail(30)  # Display the last 30 rows of the DataFrame to check the end of the dataset.\n",
    "\n",
    "print(df_multi.head(10))  # Print the first 10 rows of the subset DataFrame to verify the correct columns and data.\n",
    "\n",
    "print(df_multi.dtypes)  # Print the data types of the columns in the subset DataFrame to ensure they are appropriate for further analysis.\n"
   ],
   "id": "362f3dd1a2b124d7",
   "outputs": [
    {
     "name": "stdout",
     "output_type": "stream",
     "text": [
      "      G(i)  H_sun    T2m  WS10m\n",
      "0        0   0.00  11.17   1.59\n",
      "1        0   0.00  10.67   1.59\n",
      "2        0   0.00  10.11   1.79\n",
      "3        0   0.00   9.88   1.86\n",
      "4    91.98   2.76   9.77   1.93\n",
      "5   432.28  15.67  11.48   1.72\n",
      "6   681.34  27.82  15.42   1.72\n",
      "7   867.69  38.65  19.13   1.72\n",
      "8   987.62  47.15  21.08   1.66\n",
      "9  1034.38  51.71  22.13   1.24\n",
      "G(i)      object\n",
      "H_sun    float64\n",
      "T2m      float64\n",
      "WS10m    float64\n",
      "dtype: object\n"
     ]
    }
   ],
   "execution_count": 6
  },
  {
   "metadata": {
    "ExecuteTime": {
     "end_time": "2024-11-01T10:11:41.863792Z",
     "start_time": "2024-11-01T10:11:41.793658Z"
    }
   },
   "cell_type": "code",
   "source": [
    "df_multi['G(i)'] = pd.to_numeric(df_multi['G(i)'], errors='coerce')  \n",
    "# Convert the 'G(i)' column to numeric types, coercing errors into NaN values to handle non-numeric data safely.\n",
    "\n",
    "unique_types = df_multi['G(i)'].apply(type).unique()  \n",
    "# Apply the 'type' function to each element in the 'G(i)' column and retrieve the unique data types present.\n",
    "\n",
    "print(unique_types)  \n",
    "# Print the array of unique data types found in the 'G(i)' column to inspect the types of data being processed.\n"
   ],
   "id": "6fb9fde6507a6744",
   "outputs": [
    {
     "name": "stdout",
     "output_type": "stream",
     "text": [
      "[<class 'float'>]\n"
     ]
    }
   ],
   "execution_count": 7
  },
  {
   "metadata": {
    "ExecuteTime": {
     "end_time": "2024-11-01T10:12:33.466773Z",
     "start_time": "2024-11-01T10:12:33.434488Z"
    }
   },
   "cell_type": "code",
   "source": "df_scaled = df_multi.to_numpy()",
   "id": "c7504ecf207d6b79",
   "outputs": [],
   "execution_count": 9
  },
  {
   "metadata": {
    "ExecuteTime": {
     "end_time": "2024-11-01T10:33:50.875163Z",
     "start_time": "2024-11-01T10:33:50.858401Z"
    }
   },
   "cell_type": "code",
   "source": [
    "\n",
    "print(df_scaled[0:24,0]) # this it the input\n",
    "print(df_scaled[24,0]) # this is the output"
   ],
   "id": "59a1e183fa41f837",
   "outputs": [
    {
     "name": "stdout",
     "output_type": "stream",
     "text": [
      "[   0.      0.      0.      0.     91.98  432.28  681.34  867.69  987.62\n",
      " 1034.38  998.94  887.09  702.6   472.43  208.97    0.      0.      0.\n",
      "    0.      0.      0.      0.      0.      0.  ]\n",
      "0.0\n"
     ]
    }
   ],
   "execution_count": 31
  },
  {
   "metadata": {
    "ExecuteTime": {
     "end_time": "2024-11-01T10:33:53.592811Z",
     "start_time": "2024-11-01T10:33:53.581644Z"
    }
   },
   "cell_type": "code",
   "source": [
    "def df_to_X_y(df_as_np, window_size=5):\n",
    "#   df_as_np = df.to_numpy()\n",
    "  X = []\n",
    "  y = []\n",
    "  for i in range(len(df_as_np)-window_size):\n",
    "    row = [a for a in df_as_np[i:i+window_size,0]]\n",
    "    X.append(row)\n",
    "    label = df_as_np[i+window_size,0]\n",
    "    y.append(label)\n",
    "  return np.array(X), np.array(y)"
   ],
   "id": "e795172f16446d32",
   "outputs": [],
   "execution_count": 32
  },
  {
   "metadata": {
    "ExecuteTime": {
     "end_time": "2024-11-01T10:13:33.325416Z",
     "start_time": "2024-11-01T10:13:32.459062Z"
    }
   },
   "cell_type": "code",
   "source": [
    "\n",
    "# # this how abt 23 ??????/\n",
    "\n",
    "WINDOW_SIZE = 24  \n",
    "X1, y1 = df_to_X_y(df_scaled, WINDOW_SIZE)\n",
    "print(X1[0])\n",
    "print(\"s################################################\")\n",
    "print(y1[0])\n",
    "X1.shape, y1.shape"
   ],
   "id": "e1bdb24741edcb4d",
   "outputs": [
    {
     "name": "stdout",
     "output_type": "stream",
     "text": [
      "[   0.      0.      0.      0.     91.98  432.28  681.34  867.69  987.62\n",
      " 1034.38  998.94  887.09  702.6   472.43  208.97    0.      0.      0.\n",
      "    0.      0.      0.      0.      0.      0.  ]\n",
      "s################################################\n",
      "0.0\n"
     ]
    },
    {
     "data": {
      "text/plain": [
       "((96407, 24), (96407,))"
      ]
     },
     "execution_count": 13,
     "metadata": {},
     "output_type": "execute_result"
    }
   ],
   "execution_count": 13
  },
  {
   "metadata": {
    "ExecuteTime": {
     "end_time": "2024-11-01T10:13:44.868035Z",
     "start_time": "2024-11-01T10:13:44.843590Z"
    }
   },
   "cell_type": "code",
   "source": [
    "X_train1, y_train1 = X1[:61367], y1[:61367]\n",
    "X_val1, y_val1 = X1[61367:70127], y1[61367:70127] # 1 year for validation [61,367 , 70127]\n",
    "X_test1, y_test1 = X1[70128:], y1[70128:] #  1 year testing [70,128 , 78887]\n",
    "X_train1.shape, y_train1.shape, X_val1.shape, y_val1.shape, X_test1.shape, y_test1.shape\n"
   ],
   "id": "9f27c14366a0ed9c",
   "outputs": [
    {
     "data": {
      "text/plain": [
       "((61367, 24), (61367,), (8760, 24), (8760,), (26279, 24), (26279,))"
      ]
     },
     "execution_count": 14,
     "metadata": {},
     "output_type": "execute_result"
    }
   ],
   "execution_count": 14
  },
  {
   "metadata": {
    "ExecuteTime": {
     "end_time": "2024-11-01T10:14:02.264180Z",
     "start_time": "2024-11-01T10:14:02.231260Z"
    }
   },
   "cell_type": "code",
   "source": [
    "import tensorflow as tf\n",
    "from tensorflow.keras.models import Sequential\n",
    "from tensorflow.keras.layers import InputLayer, GRU, Dense, Dropout\n",
    "from tensorflow.keras.callbacks import ModelCheckpoint, EarlyStopping\n",
    "from tensorflow.keras.losses import MeanSquaredError\n",
    "from tensorflow.keras.metrics import RootMeanSquaredError\n",
    "from tensorflow.keras.optimizers import Adam\n",
    "import numpy as np"
   ],
   "id": "898ced49d60364ea",
   "outputs": [],
   "execution_count": 15
  },
  {
   "metadata": {
    "ExecuteTime": {
     "end_time": "2024-11-01T10:14:25.427925Z",
     "start_time": "2024-11-01T10:14:23.435148Z"
    }
   },
   "cell_type": "code",
   "source": [
    "# Define the more complex GRU-based model\n",
    "complex_gru_model = Sequential()\n",
    "complex_gru_model.add(InputLayer((24, 1)))  # Assuming input shape (24, 1)\n",
    "\n",
    "# Add a stack of GRU layers with increasing complexity\n",
    "complex_gru_model.add(GRU(128, return_sequences=True))  # First GRU layer with 128 units, returns sequences\n",
    "complex_gru_model.add(Dropout(0.2))                     # Dropout for regularization\n",
    "complex_gru_model.add(GRU(64, return_sequences=True))   # Second GRU layer with 64 units\n",
    "complex_gru_model.add(Dropout(0.2))\n",
    "complex_gru_model.add(GRU(32))                          # Final GRU layer with 32 units\n",
    "\n",
    "# Dense layers to increase model complexity\n",
    "complex_gru_model.add(Dense(16, activation='relu'))     # Dense layer with 16 units\n",
    "complex_gru_model.add(Dropout(0.1))                     # Additional dropout layer\n",
    "complex_gru_model.add(Dense(8, activation='relu'))      # Dense layer with 8 units\n",
    "\n",
    "# Output layer\n",
    "complex_gru_model.add(Dense(1, activation='linear'))    # Output layer for regression\n",
    "\n",
    "# Model summary to review the structure\n",
    "complex_gru_model.summary()\n"
   ],
   "id": "ddafb298a0e05cd0",
   "outputs": [
    {
     "name": "stdout",
     "output_type": "stream",
     "text": [
      "Model: \"sequential\"\n",
      "_________________________________________________________________\n",
      " Layer (type)                Output Shape              Param #   \n",
      "=================================================================\n",
      " gru (GRU)                   (None, 24, 128)           50304     \n",
      "                                                                 \n",
      " dropout (Dropout)           (None, 24, 128)           0         \n",
      "                                                                 \n",
      " gru_1 (GRU)                 (None, 24, 64)            37248     \n",
      "                                                                 \n",
      " dropout_1 (Dropout)         (None, 24, 64)            0         \n",
      "                                                                 \n",
      " gru_2 (GRU)                 (None, 32)                9408      \n",
      "                                                                 \n",
      " dense (Dense)               (None, 16)                528       \n",
      "                                                                 \n",
      " dropout_2 (Dropout)         (None, 16)                0         \n",
      "                                                                 \n",
      " dense_1 (Dense)             (None, 8)                 136       \n",
      "                                                                 \n",
      " dense_2 (Dense)             (None, 1)                 9         \n",
      "                                                                 \n",
      "=================================================================\n",
      "Total params: 97,633\n",
      "Trainable params: 97,633\n",
      "Non-trainable params: 0\n",
      "_________________________________________________________________\n"
     ]
    }
   ],
   "execution_count": 16
  },
  {
   "metadata": {
    "ExecuteTime": {
     "end_time": "2024-11-01T10:17:02.946480Z",
     "start_time": "2024-11-01T10:17:02.910347Z"
    }
   },
   "cell_type": "code",
   "source": [
    "# Compile the model\n",
    "complex_gru_model.compile(\n",
    "    loss=MeanSquaredError(), \n",
    "    optimizer=Adam(learning_rate=0.001), \n",
    "    metrics=[RootMeanSquaredError()]\n",
    ")"
   ],
   "id": "1ae6502817261b6d",
   "outputs": [],
   "execution_count": 17
  },
  {
   "metadata": {
    "ExecuteTime": {
     "end_time": "2024-11-01T10:23:22.307159Z",
     "start_time": "2024-11-01T10:17:39.011387Z"
    }
   },
   "cell_type": "code",
   "source": [
    "# Set up callbacks for early stopping and saving the best model\n",
    "early_stopping = EarlyStopping(monitor='val_loss', min_delta=0.001, patience=10, verbose=1, mode='min')\n",
    "model_checkpoint = ModelCheckpoint('model_G(I)_Complex_GRU/', save_best_only=True)\n",
    "\n",
    "# Model training (replace X_train1, y_train1, X_val1, y_val1 with your actual training and validation data)\n",
    "history = complex_gru_model.fit(\n",
    "    X_train1, y_train1,\n",
    "    validation_data=(X_val1, y_val1),\n",
    "    epochs=4,\n",
    "    batch_size=32,\n",
    "    callbacks=[early_stopping, model_checkpoint]\n",
    ")\n"
   ],
   "id": "4bd522ab51654503",
   "outputs": [
    {
     "name": "stdout",
     "output_type": "stream",
     "text": [
      "Epoch 1/4\n",
      "1917/1918 [============================>.] - ETA: 0s - loss: 45253.8477 - root_mean_squared_error: 212.7295"
     ]
    },
    {
     "name": "stderr",
     "output_type": "stream",
     "text": [
      "WARNING:absl:Found untraced functions such as gru_cell_layer_call_fn, gru_cell_layer_call_and_return_conditional_losses, gru_cell_1_layer_call_fn, gru_cell_1_layer_call_and_return_conditional_losses, gru_cell_2_layer_call_fn while saving (showing 5 of 6). These functions will not be directly callable after loading.\n"
     ]
    },
    {
     "name": "stdout",
     "output_type": "stream",
     "text": [
      "INFO:tensorflow:Assets written to: model_G(I)_Complex_GRU\\assets\n"
     ]
    },
    {
     "name": "stderr",
     "output_type": "stream",
     "text": [
      "INFO:tensorflow:Assets written to: model_G(I)_Complex_GRU\\assets\n"
     ]
    },
    {
     "name": "stdout",
     "output_type": "stream",
     "text": [
      "1918/1918 [==============================] - 76s 38ms/step - loss: 45239.5938 - root_mean_squared_error: 212.6960 - val_loss: 8394.6914 - val_root_mean_squared_error: 91.6226\n",
      "Epoch 2/4\n",
      "1918/1918 [==============================] - ETA: 0s - loss: 11020.2158 - root_mean_squared_error: 104.9772"
     ]
    },
    {
     "name": "stderr",
     "output_type": "stream",
     "text": [
      "WARNING:absl:Found untraced functions such as gru_cell_layer_call_fn, gru_cell_layer_call_and_return_conditional_losses, gru_cell_1_layer_call_fn, gru_cell_1_layer_call_and_return_conditional_losses, gru_cell_2_layer_call_fn while saving (showing 5 of 6). These functions will not be directly callable after loading.\n"
     ]
    },
    {
     "name": "stdout",
     "output_type": "stream",
     "text": [
      "INFO:tensorflow:Assets written to: model_G(I)_Complex_GRU\\assets\n"
     ]
    },
    {
     "name": "stderr",
     "output_type": "stream",
     "text": [
      "INFO:tensorflow:Assets written to: model_G(I)_Complex_GRU\\assets\n"
     ]
    },
    {
     "name": "stdout",
     "output_type": "stream",
     "text": [
      "1918/1918 [==============================] - 75s 39ms/step - loss: 11020.2158 - root_mean_squared_error: 104.9772 - val_loss: 7665.9331 - val_root_mean_squared_error: 87.5553\n",
      "Epoch 3/4\n",
      "1918/1918 [==============================] - 64s 33ms/step - loss: 10306.6709 - root_mean_squared_error: 101.5218 - val_loss: 7876.9326 - val_root_mean_squared_error: 88.7521\n",
      "Epoch 4/4\n",
      "1918/1918 [==============================] - 127s 66ms/step - loss: 10269.5879 - root_mean_squared_error: 101.3390 - val_loss: 7932.5122 - val_root_mean_squared_error: 89.0647\n"
     ]
    }
   ],
   "execution_count": 18
  },
  {
   "metadata": {
    "ExecuteTime": {
     "end_time": "2024-11-01T10:24:26.602954Z",
     "start_time": "2024-11-01T10:24:21.829298Z"
    }
   },
   "cell_type": "code",
   "source": [
    "from tensorflow.keras.models import load_model\n",
    "model1 = load_model('model_G(I)_Complex_GRU/')"
   ],
   "id": "b99689a1445789dc",
   "outputs": [],
   "execution_count": 19
  },
  {
   "metadata": {
    "ExecuteTime": {
     "end_time": "2024-11-01T10:24:45.694Z",
     "start_time": "2024-11-01T10:24:28.315866Z"
    }
   },
   "cell_type": "code",
   "source": [
    "train_predictions = model1.predict(X_train1).flatten()\n",
    "train_results = pd.DataFrame(data={'Train Predictions':train_predictions, 'Actuals':y_train1.flatten()})\n",
    "train_results.head(30)"
   ],
   "id": "54673cc1ef7f38e7",
   "outputs": [
    {
     "name": "stdout",
     "output_type": "stream",
     "text": [
      "1918/1918 [==============================] - 17s 8ms/step\n"
     ]
    },
    {
     "data": {
      "text/plain": [
       "    Train Predictions  Actuals\n",
       "0           -0.152590     0.00\n",
       "1           -0.163947     0.00\n",
       "2           -0.160235     0.00\n",
       "3            0.983357     0.00\n",
       "4          142.075821    17.78\n",
       "5          347.784119   443.28\n",
       "6          666.168762   642.75\n",
       "7          876.821289   860.81\n",
       "8         1002.422668   973.48\n",
       "9         1025.590088   987.11\n",
       "10         967.921021   948.68\n",
       "11         803.824585   760.16\n",
       "12         597.875122   600.61\n",
       "13         395.963226   399.73\n",
       "14         190.693802   154.07\n",
       "15           9.864428     0.00\n",
       "16           1.055547     0.00\n",
       "17           0.119660     0.00\n",
       "18           0.004623     0.00\n",
       "19          -0.056956     0.00\n",
       "20          -0.091167     0.00\n",
       "21          -0.111985     0.00\n",
       "22          -0.126592     0.00\n",
       "23          -0.139507     0.00\n",
       "24          -0.155202     0.00\n",
       "25          -0.167877     0.00\n",
       "26          -0.165275     0.00\n",
       "27           0.395550     0.00\n",
       "28          76.714371    63.82\n",
       "29         399.094025   397.69"
      ],
      "text/html": [
       "<div>\n",
       "<style scoped>\n",
       "    .dataframe tbody tr th:only-of-type {\n",
       "        vertical-align: middle;\n",
       "    }\n",
       "\n",
       "    .dataframe tbody tr th {\n",
       "        vertical-align: top;\n",
       "    }\n",
       "\n",
       "    .dataframe thead th {\n",
       "        text-align: right;\n",
       "    }\n",
       "</style>\n",
       "<table border=\"1\" class=\"dataframe\">\n",
       "  <thead>\n",
       "    <tr style=\"text-align: right;\">\n",
       "      <th></th>\n",
       "      <th>Train Predictions</th>\n",
       "      <th>Actuals</th>\n",
       "    </tr>\n",
       "  </thead>\n",
       "  <tbody>\n",
       "    <tr>\n",
       "      <th>0</th>\n",
       "      <td>-0.152590</td>\n",
       "      <td>0.00</td>\n",
       "    </tr>\n",
       "    <tr>\n",
       "      <th>1</th>\n",
       "      <td>-0.163947</td>\n",
       "      <td>0.00</td>\n",
       "    </tr>\n",
       "    <tr>\n",
       "      <th>2</th>\n",
       "      <td>-0.160235</td>\n",
       "      <td>0.00</td>\n",
       "    </tr>\n",
       "    <tr>\n",
       "      <th>3</th>\n",
       "      <td>0.983357</td>\n",
       "      <td>0.00</td>\n",
       "    </tr>\n",
       "    <tr>\n",
       "      <th>4</th>\n",
       "      <td>142.075821</td>\n",
       "      <td>17.78</td>\n",
       "    </tr>\n",
       "    <tr>\n",
       "      <th>5</th>\n",
       "      <td>347.784119</td>\n",
       "      <td>443.28</td>\n",
       "    </tr>\n",
       "    <tr>\n",
       "      <th>6</th>\n",
       "      <td>666.168762</td>\n",
       "      <td>642.75</td>\n",
       "    </tr>\n",
       "    <tr>\n",
       "      <th>7</th>\n",
       "      <td>876.821289</td>\n",
       "      <td>860.81</td>\n",
       "    </tr>\n",
       "    <tr>\n",
       "      <th>8</th>\n",
       "      <td>1002.422668</td>\n",
       "      <td>973.48</td>\n",
       "    </tr>\n",
       "    <tr>\n",
       "      <th>9</th>\n",
       "      <td>1025.590088</td>\n",
       "      <td>987.11</td>\n",
       "    </tr>\n",
       "    <tr>\n",
       "      <th>10</th>\n",
       "      <td>967.921021</td>\n",
       "      <td>948.68</td>\n",
       "    </tr>\n",
       "    <tr>\n",
       "      <th>11</th>\n",
       "      <td>803.824585</td>\n",
       "      <td>760.16</td>\n",
       "    </tr>\n",
       "    <tr>\n",
       "      <th>12</th>\n",
       "      <td>597.875122</td>\n",
       "      <td>600.61</td>\n",
       "    </tr>\n",
       "    <tr>\n",
       "      <th>13</th>\n",
       "      <td>395.963226</td>\n",
       "      <td>399.73</td>\n",
       "    </tr>\n",
       "    <tr>\n",
       "      <th>14</th>\n",
       "      <td>190.693802</td>\n",
       "      <td>154.07</td>\n",
       "    </tr>\n",
       "    <tr>\n",
       "      <th>15</th>\n",
       "      <td>9.864428</td>\n",
       "      <td>0.00</td>\n",
       "    </tr>\n",
       "    <tr>\n",
       "      <th>16</th>\n",
       "      <td>1.055547</td>\n",
       "      <td>0.00</td>\n",
       "    </tr>\n",
       "    <tr>\n",
       "      <th>17</th>\n",
       "      <td>0.119660</td>\n",
       "      <td>0.00</td>\n",
       "    </tr>\n",
       "    <tr>\n",
       "      <th>18</th>\n",
       "      <td>0.004623</td>\n",
       "      <td>0.00</td>\n",
       "    </tr>\n",
       "    <tr>\n",
       "      <th>19</th>\n",
       "      <td>-0.056956</td>\n",
       "      <td>0.00</td>\n",
       "    </tr>\n",
       "    <tr>\n",
       "      <th>20</th>\n",
       "      <td>-0.091167</td>\n",
       "      <td>0.00</td>\n",
       "    </tr>\n",
       "    <tr>\n",
       "      <th>21</th>\n",
       "      <td>-0.111985</td>\n",
       "      <td>0.00</td>\n",
       "    </tr>\n",
       "    <tr>\n",
       "      <th>22</th>\n",
       "      <td>-0.126592</td>\n",
       "      <td>0.00</td>\n",
       "    </tr>\n",
       "    <tr>\n",
       "      <th>23</th>\n",
       "      <td>-0.139507</td>\n",
       "      <td>0.00</td>\n",
       "    </tr>\n",
       "    <tr>\n",
       "      <th>24</th>\n",
       "      <td>-0.155202</td>\n",
       "      <td>0.00</td>\n",
       "    </tr>\n",
       "    <tr>\n",
       "      <th>25</th>\n",
       "      <td>-0.167877</td>\n",
       "      <td>0.00</td>\n",
       "    </tr>\n",
       "    <tr>\n",
       "      <th>26</th>\n",
       "      <td>-0.165275</td>\n",
       "      <td>0.00</td>\n",
       "    </tr>\n",
       "    <tr>\n",
       "      <th>27</th>\n",
       "      <td>0.395550</td>\n",
       "      <td>0.00</td>\n",
       "    </tr>\n",
       "    <tr>\n",
       "      <th>28</th>\n",
       "      <td>76.714371</td>\n",
       "      <td>63.82</td>\n",
       "    </tr>\n",
       "    <tr>\n",
       "      <th>29</th>\n",
       "      <td>399.094025</td>\n",
       "      <td>397.69</td>\n",
       "    </tr>\n",
       "  </tbody>\n",
       "</table>\n",
       "</div>"
      ]
     },
     "execution_count": 20,
     "metadata": {},
     "output_type": "execute_result"
    }
   ],
   "execution_count": 20
  },
  {
   "metadata": {
    "ExecuteTime": {
     "end_time": "2024-11-01T10:25:21.468456Z",
     "start_time": "2024-11-01T10:25:21.305229Z"
    }
   },
   "cell_type": "code",
   "source": [
    "%matplotlib inline\n",
    "\n",
    "import matplotlib.pyplot as plt\n",
    "plt.plot(train_results['Train Predictions'][50:100])\n",
    "plt.plot(train_results['Actuals'][50:100])\n",
    "plt.legend()"
   ],
   "id": "a7eeb09958a4898",
   "outputs": [
    {
     "data": {
      "text/plain": [
       "[<matplotlib.lines.Line2D at 0x285ea762bb0>]"
      ]
     },
     "execution_count": 21,
     "metadata": {},
     "output_type": "execute_result"
    },
    {
     "data": {
      "text/plain": [
       "<Figure size 640x480 with 1 Axes>"
      ],
      "image/png": "[encoded data removed]"
     },
     "metadata": {},
     "output_type": "display_data"
    }
   ],
   "execution_count": 21
  },
  {
   "metadata": {
    "ExecuteTime": {
     "end_time": "2024-11-01T10:25:26.615898Z",
     "start_time": "2024-11-01T10:25:24.374971Z"
    }
   },
   "cell_type": "code",
   "source": [
    "\n",
    "val_predictions = model1.predict(X_val1).flatten()\n",
    "val_results = pd.DataFrame(data={'Val Predictions':val_predictions, 'Actuals':y_val1.flatten()})\n",
    "val_results.head(20)"
   ],
   "id": "8e46908371885fc9",
   "outputs": [
    {
     "name": "stdout",
     "output_type": "stream",
     "text": [
      "274/274 [==============================] - 2s 7ms/step\n"
     ]
    },
    {
     "data": {
      "text/plain": [
       "    Val Predictions  Actuals\n",
       "0         -0.135784     0.00\n",
       "1         -0.151756     0.00\n",
       "2         -0.163404     0.00\n",
       "3         -0.161626     0.00\n",
       "4          1.488578     0.00\n",
       "5        158.845001    87.44\n",
       "6        414.581238   429.21\n",
       "7        683.185486   701.00\n",
       "8        904.405273   896.93\n",
       "9       1012.383972  1032.36\n",
       "10      1029.582031  1080.82\n",
       "11       990.543762  1038.31\n",
       "12       859.817261   928.92\n",
       "13       651.807800   746.73\n",
       "14       521.727905   500.28\n",
       "15       256.064880   231.22\n",
       "16        17.918795     0.00\n",
       "17         2.213862     0.00\n",
       "18         0.300301     0.00\n",
       "19         0.031409     0.00"
      ],
      "text/html": [
       "<div>\n",
       "<style scoped>\n",
       "    .dataframe tbody tr th:only-of-type {\n",
       "        vertical-align: middle;\n",
       "    }\n",
       "\n",
       "    .dataframe tbody tr th {\n",
       "        vertical-align: top;\n",
       "    }\n",
       "\n",
       "    .dataframe thead th {\n",
       "        text-align: right;\n",
       "    }\n",
       "</style>\n",
       "<table border=\"1\" class=\"dataframe\">\n",
       "  <thead>\n",
       "    <tr style=\"text-align: right;\">\n",
       "      <th></th>\n",
       "      <th>Val Predictions</th>\n",
       "      <th>Actuals</th>\n",
       "    </tr>\n",
       "  </thead>\n",
       "  <tbody>\n",
       "    <tr>\n",
       "      <th>0</th>\n",
       "      <td>-0.135784</td>\n",
       "      <td>0.00</td>\n",
       "    </tr>\n",
       "    <tr>\n",
       "      <th>1</th>\n",
       "      <td>-0.151756</td>\n",
       "      <td>0.00</td>\n",
       "    </tr>\n",
       "    <tr>\n",
       "      <th>2</th>\n",
       "      <td>-0.163404</td>\n",
       "      <td>0.00</td>\n",
       "    </tr>\n",
       "    <tr>\n",
       "      <th>3</th>\n",
       "      <td>-0.161626</td>\n",
       "      <td>0.00</td>\n",
       "    </tr>\n",
       "    <tr>\n",
       "      <th>4</th>\n",
       "      <td>1.488578</td>\n",
       "      <td>0.00</td>\n",
       "    </tr>\n",
       "    <tr>\n",
       "      <th>5</th>\n",
       "      <td>158.845001</td>\n",
       "      <td>87.44</td>\n",
       "    </tr>\n",
       "    <tr>\n",
       "      <th>6</th>\n",
       "      <td>414.581238</td>\n",
       "      <td>429.21</td>\n",
       "    </tr>\n",
       "    <tr>\n",
       "      <th>7</th>\n",
       "      <td>683.185486</td>\n",
       "      <td>701.00</td>\n",
       "    </tr>\n",
       "    <tr>\n",
       "      <th>8</th>\n",
       "      <td>904.405273</td>\n",
       "      <td>896.93</td>\n",
       "    </tr>\n",
       "    <tr>\n",
       "      <th>9</th>\n",
       "      <td>1012.383972</td>\n",
       "      <td>1032.36</td>\n",
       "    </tr>\n",
       "    <tr>\n",
       "      <th>10</th>\n",
       "      <td>1029.582031</td>\n",
       "      <td>1080.82</td>\n",
       "    </tr>\n",
       "    <tr>\n",
       "      <th>11</th>\n",
       "      <td>990.543762</td>\n",
       "      <td>1038.31</td>\n",
       "    </tr>\n",
       "    <tr>\n",
       "      <th>12</th>\n",
       "      <td>859.817261</td>\n",
       "      <td>928.92</td>\n",
       "    </tr>\n",
       "    <tr>\n",
       "      <th>13</th>\n",
       "      <td>651.807800</td>\n",
       "      <td>746.73</td>\n",
       "    </tr>\n",
       "    <tr>\n",
       "      <th>14</th>\n",
       "      <td>521.727905</td>\n",
       "      <td>500.28</td>\n",
       "    </tr>\n",
       "    <tr>\n",
       "      <th>15</th>\n",
       "      <td>256.064880</td>\n",
       "      <td>231.22</td>\n",
       "    </tr>\n",
       "    <tr>\n",
       "      <th>16</th>\n",
       "      <td>17.918795</td>\n",
       "      <td>0.00</td>\n",
       "    </tr>\n",
       "    <tr>\n",
       "      <th>17</th>\n",
       "      <td>2.213862</td>\n",
       "      <td>0.00</td>\n",
       "    </tr>\n",
       "    <tr>\n",
       "      <th>18</th>\n",
       "      <td>0.300301</td>\n",
       "      <td>0.00</td>\n",
       "    </tr>\n",
       "    <tr>\n",
       "      <th>19</th>\n",
       "      <td>0.031409</td>\n",
       "      <td>0.00</td>\n",
       "    </tr>\n",
       "  </tbody>\n",
       "</table>\n",
       "</div>"
      ]
     },
     "execution_count": 22,
     "metadata": {},
     "output_type": "execute_result"
    }
   ],
   "execution_count": 22
  },
  {
   "metadata": {
    "ExecuteTime": {
     "end_time": "2024-11-01T10:25:46.290112Z",
     "start_time": "2024-11-01T10:25:46.106818Z"
    }
   },
   "cell_type": "code",
   "source": [
    "plt.plot(val_results['Val Predictions'][50:100])\n",
    "plt.plot(val_results['Actuals'][50:100])"
   ],
   "id": "372e0112d5ad65ad",
   "outputs": [
    {
     "data": {
      "text/plain": [
       "[<matplotlib.lines.Line2D at 0x285ec61c910>]"
      ]
     },
     "execution_count": 23,
     "metadata": {},
     "output_type": "execute_result"
    },
    {
     "data": {
      "text/plain": [
       "<Figure size 640x480 with 1 Axes>"
      ],
      "image/png": "[encoded data removed]"
     },
     "metadata": {},
     "output_type": "display_data"
    }
   ],
   "execution_count": 23
  },
  {
   "metadata": {
    "ExecuteTime": {
     "end_time": "2024-11-01T10:26:22.484188Z",
     "start_time": "2024-11-01T10:26:15.014469Z"
    }
   },
   "cell_type": "code",
   "source": [
    "test_predictions = model1.predict(X_test1).flatten()\n",
    "test_results = pd.DataFrame(data={'Test Predictions':test_predictions, 'Actuals':y_test1.flatten()})\n",
    "test_results"
   ],
   "id": "6b8774a9fa51668e",
   "outputs": [
    {
     "name": "stdout",
     "output_type": "stream",
     "text": [
      "822/822 [==============================] - 7s 9ms/step\n"
     ]
    },
    {
     "data": {
      "text/plain": [
       "       Test Predictions  Actuals\n",
       "0             -0.154124     0.00\n",
       "1             -0.165772     0.00\n",
       "2             -0.162710     0.00\n",
       "3              0.447278     0.00\n",
       "4             86.866661    26.93\n",
       "...                 ...      ...\n",
       "26274          0.026251     0.00\n",
       "26275         -0.046144     0.00\n",
       "26276         -0.085659     0.00\n",
       "26277         -0.109087     0.00\n",
       "26278         -0.125076     0.00\n",
       "\n",
       "[26279 rows x 2 columns]"
      ],
      "text/html": [
       "<div>\n",
       "<style scoped>\n",
       "    .dataframe tbody tr th:only-of-type {\n",
       "        vertical-align: middle;\n",
       "    }\n",
       "\n",
       "    .dataframe tbody tr th {\n",
       "        vertical-align: top;\n",
       "    }\n",
       "\n",
       "    .dataframe thead th {\n",
       "        text-align: right;\n",
       "    }\n",
       "</style>\n",
       "<table border=\"1\" class=\"dataframe\">\n",
       "  <thead>\n",
       "    <tr style=\"text-align: right;\">\n",
       "      <th></th>\n",
       "      <th>Test Predictions</th>\n",
       "      <th>Actuals</th>\n",
       "    </tr>\n",
       "  </thead>\n",
       "  <tbody>\n",
       "    <tr>\n",
       "      <th>0</th>\n",
       "      <td>-0.154124</td>\n",
       "      <td>0.00</td>\n",
       "    </tr>\n",
       "    <tr>\n",
       "      <th>1</th>\n",
       "      <td>-0.165772</td>\n",
       "      <td>0.00</td>\n",
       "    </tr>\n",
       "    <tr>\n",
       "      <th>2</th>\n",
       "      <td>-0.162710</td>\n",
       "      <td>0.00</td>\n",
       "    </tr>\n",
       "    <tr>\n",
       "      <th>3</th>\n",
       "      <td>0.447278</td>\n",
       "      <td>0.00</td>\n",
       "    </tr>\n",
       "    <tr>\n",
       "      <th>4</th>\n",
       "      <td>86.866661</td>\n",
       "      <td>26.93</td>\n",
       "    </tr>\n",
       "    <tr>\n",
       "      <th>...</th>\n",
       "      <td>...</td>\n",
       "      <td>...</td>\n",
       "    </tr>\n",
       "    <tr>\n",
       "      <th>26274</th>\n",
       "      <td>0.026251</td>\n",
       "      <td>0.00</td>\n",
       "    </tr>\n",
       "    <tr>\n",
       "      <th>26275</th>\n",
       "      <td>-0.046144</td>\n",
       "      <td>0.00</td>\n",
       "    </tr>\n",
       "    <tr>\n",
       "      <th>26276</th>\n",
       "      <td>-0.085659</td>\n",
       "      <td>0.00</td>\n",
       "    </tr>\n",
       "    <tr>\n",
       "      <th>26277</th>\n",
       "      <td>-0.109087</td>\n",
       "      <td>0.00</td>\n",
       "    </tr>\n",
       "    <tr>\n",
       "      <th>26278</th>\n",
       "      <td>-0.125076</td>\n",
       "      <td>0.00</td>\n",
       "    </tr>\n",
       "  </tbody>\n",
       "</table>\n",
       "<p>26279 rows × 2 columns</p>\n",
       "</div>"
      ]
     },
     "execution_count": 24,
     "metadata": {},
     "output_type": "execute_result"
    }
   ],
   "execution_count": 24
  },
  {
   "metadata": {
    "ExecuteTime": {
     "end_time": "2024-11-01T10:27:17.525288Z",
     "start_time": "2024-11-01T10:27:17.493837Z"
    }
   },
   "cell_type": "code",
   "source": [
    "from sklearn.metrics import mean_squared_error as mse\n",
    "\n",
    "def plot_predictions1(model, X, y, start=50, end=100):\n",
    "  predictions = model.predict(X).flatten()\n",
    "  df = pd.DataFrame(data={'Predictions': predictions, 'Actuals':y})\n",
    "  plt.plot(df['Predictions'][start:end])\n",
    "  plt.plot(df['Actuals'][start:end])\n",
    "  return df, mse(predictions, y)"
   ],
   "id": "be25290abcd8a87e",
   "outputs": [],
   "execution_count": 26
  },
  {
   "metadata": {
    "ExecuteTime": {
     "end_time": "2024-11-01T10:27:59.662314Z",
     "start_time": "2024-11-01T10:27:51.984898Z"
    }
   },
   "cell_type": "code",
   "source": "plot_predictions1(model1, X_test1, y_test1.flatten())",
   "id": "e223bd11b6342735",
   "outputs": [
    {
     "name": "stdout",
     "output_type": "stream",
     "text": [
      "822/822 [==============================] - 7s 9ms/step\n"
     ]
    },
    {
     "data": {
      "text/plain": [
       "(       Predictions  Actuals\n",
       " 0        -0.154124     0.00\n",
       " 1        -0.165772     0.00\n",
       " 2        -0.162710     0.00\n",
       " 3         0.447278     0.00\n",
       " 4        86.866661    26.93\n",
       " ...            ...      ...\n",
       " 26274     0.026251     0.00\n",
       " 26275    -0.046144     0.00\n",
       " 26276    -0.085659     0.00\n",
       " 26277    -0.109087     0.00\n",
       " 26278    -0.125076     0.00\n",
       " \n",
       " [26279 rows x 2 columns],\n",
       " 6045.701122599702)"
      ]
     },
     "execution_count": 27,
     "metadata": {},
     "output_type": "execute_result"
    },
    {
     "data": {
      "text/plain": [
       "<Figure size 640x480 with 1 Axes>"
      ],
      "image/png": "[encoded data removed]"
     },
     "metadata": {},
     "output_type": "display_data"
    }
   ],
   "execution_count": 27
  },
  {
   "metadata": {
    "ExecuteTime": {
     "end_time": "2024-11-01T10:29:22.300792Z",
     "start_time": "2024-11-01T10:29:21.100588Z"
    }
   },
   "cell_type": "code",
   "source": [
    "kkk = df_scaled[78866:78890,0]\n",
    "print(type(kkk))\n",
    "print(kkk.shape)\n",
    "reshaped_array = np.reshape(kkk, (1, 24, 1))\n",
    "print(reshaped_array)\n",
    "predictions = model1.predict(reshaped_array)\n",
    "print(predictions)\n",
    " \n",
    "# original= scaler.inverse_transform(predictions)\n",
    "# print(original)\n",
    "# predictions\n",
    "# inverse_data = np.zeros((len(predictions), scaler.shape[1]))"
   ],
   "id": "b4a6d74671ddcb4a",
   "outputs": [
    {
     "name": "stdout",
     "output_type": "stream",
     "text": [
      "<class 'numpy.ndarray'>\n",
      "(24,)\n",
      "[[[   0.  ]\n",
      "  [   0.  ]\n",
      "  [  32.27]\n",
      "  [ 390.79]\n",
      "  [ 662.61]\n",
      "  [ 859.19]\n",
      "  [ 984.91]\n",
      "  [1037.92]\n",
      "  [1002.38]\n",
      "  [ 894.79]\n",
      "  [ 712.07]\n",
      "  [ 467.98]\n",
      "  [ 205.25]\n",
      "  [   0.  ]\n",
      "  [   0.  ]\n",
      "  [   0.  ]\n",
      "  [   0.  ]\n",
      "  [   0.  ]\n",
      "  [   0.  ]\n",
      "  [   0.  ]\n",
      "  [   0.  ]\n",
      "  [   0.  ]\n",
      "  [   0.  ]\n",
      "  [   0.  ]]]\n",
      "1/1 [==============================] - 1s 1s/step\n",
      "[[-0.16100913]]\n"
     ]
    }
   ],
   "execution_count": 28
  },
  {
   "metadata": {
    "ExecuteTime": {
     "end_time": "2024-11-01T10:29:45.050442Z",
     "start_time": "2024-11-01T10:29:43.324610Z"
    }
   },
   "cell_type": "code",
   "source": [
    "\n",
    "input = df_scaled[78866:78890,0]  # Initial input extracted from your original scaled DataFrame\n",
    "output_scaled = []  \n",
    "output_not_scaled = [] \n",
    "\n",
    "for i in range(24):\n",
    "    # Reshape input for the model prediction\n",
    "    reshaped_array = np.reshape(input, (1, 24, 1))\n",
    "    prediction = model1.predict(reshaped_array)\n",
    "    \n",
    "    # Reshape the prediction to match the input shape if necessary\n",
    "    # Adjust the reshaping based on the actual shape of your model's output\n",
    "    prediction_reshaped = np.reshape(prediction, (1, 1))\n",
    "    input = np.reshape(input, (24, 1))  # Ensure input is in the correct shape before appending\n",
    "    # Append the new prediction at the end of the input array\n",
    "    input = np.vstack([input, prediction_reshaped])  # Stack vertically to add as a new row\n",
    "    \n",
    "    # Remove the oldest entry to maintain the sliding window of input data\n",
    "    input = input[1:, :]  # Keep the last 24 entries, including the newly added prediction\n",
    " \n",
    "    output_scaled.append(prediction)\n",
    "\n",
    "\n",
    "# print(output_scaled)  # Remains empty, uncomment if needed\n",
    "print(output_scaled)  # Print or process the predictions as \n",
    "\n",
    "\n"
   ],
   "id": "56c1c260c7bef67e",
   "outputs": [
    {
     "name": "stdout",
     "output_type": "stream",
     "text": [
      "1/1 [==============================] - 0s 29ms/step\n",
      "1/1 [==============================] - 0s 16ms/step\n",
      "1/1 [==============================] - 0s 30ms/step\n",
      "1/1 [==============================] - 0s 26ms/step\n",
      "1/1 [==============================] - 0s 40ms/step\n",
      "1/1 [==============================] - 0s 41ms/step\n",
      "1/1 [==============================] - 0s 33ms/step\n",
      "1/1 [==============================] - 0s 32ms/step\n",
      "1/1 [==============================] - 0s 32ms/step\n",
      "1/1 [==============================] - 0s 45ms/step\n",
      "1/1 [==============================] - 0s 36ms/step\n",
      "1/1 [==============================] - 0s 18ms/step\n",
      "1/1 [==============================] - 0s 31ms/step\n",
      "1/1 [==============================] - 0s 49ms/step\n",
      "1/1 [==============================] - 0s 54ms/step\n",
      "1/1 [==============================] - 0s 32ms/step\n",
      "1/1 [==============================] - 0s 32ms/step\n",
      "1/1 [==============================] - 0s 38ms/step\n",
      "1/1 [==============================] - 0s 35ms/step\n",
      "1/1 [==============================] - 0s 31ms/step\n",
      "1/1 [==============================] - 0s 33ms/step\n",
      "1/1 [==============================] - 0s 31ms/step\n",
      "1/1 [==============================] - 0s 31ms/step\n",
      "1/1 [==============================] - 0s 32ms/step\n",
      "[array([[-0.16100913]], dtype=float32), array([[0.4433058]], dtype=float32), array([[92.489944]], dtype=float32), array([[411.62964]], dtype=float32), array([[680.3129]], dtype=float32), array([[896.4519]], dtype=float32), array([[1008.8475]], dtype=float32), array([[1027.2234]], dtype=float32), array([[975.4147]], dtype=float32), array([[821.8523]], dtype=float32), array([[615.2143]], dtype=float32), array([[408.7634]], dtype=float32), array([[201.68513]], dtype=float32), array([[13.615229]], dtype=float32), array([[1.6572679]], dtype=float32), array([[0.21550119]], dtype=float32), array([[0.02838677]], dtype=float32), array([[-0.04295987]], dtype=float32), array([[-0.08206856]], dtype=float32), array([[-0.10528094]], dtype=float32), array([[-0.12101501]], dtype=float32), array([[-0.13438326]], dtype=float32), array([[-0.15149558]], dtype=float32), array([[-0.1646908]], dtype=float32)]\n"
     ]
    }
   ],
   "execution_count": 29
  },
  {
   "metadata": {
    "ExecuteTime": {
     "end_time": "2024-11-01T10:30:08.911261Z",
     "start_time": "2024-11-01T10:30:08.882012Z"
    }
   },
   "cell_type": "code",
   "source": [
    "print(\"this is the real scaled output\")\n",
    "for i in output_scaled:\n",
    "    print(i[0][0])"
   ],
   "id": "bd14038758fc8d43",
   "outputs": [
    {
     "name": "stdout",
     "output_type": "stream",
     "text": [
      "this is the real scaled output\n",
      "-0.16100913\n",
      "0.4433058\n",
      "92.489944\n",
      "411.62964\n",
      "680.3129\n",
      "896.4519\n",
      "1008.8475\n",
      "1027.2234\n",
      "975.4147\n",
      "821.8523\n",
      "615.2143\n",
      "408.7634\n",
      "201.68513\n",
      "13.615229\n",
      "1.6572679\n",
      "0.21550119\n",
      "0.028386772\n",
      "-0.04295987\n",
      "-0.08206856\n",
      "-0.105280936\n",
      "-0.12101501\n",
      "-0.13438326\n",
      "-0.15149558\n",
      "-0.1646908\n"
     ]
    }
   ],
   "execution_count": 30
  },
  {
   "metadata": {},
   "cell_type": "code",
   "outputs": [],
   "execution_count": null,
   "source": "",
   "id": "6d8ea129d530bbf2"
  },
  {
   "metadata": {},
   "cell_type": "code",
   "outputs": [],
   "execution_count": null,
   "source": "",
   "id": "375ab900d8eaa974"
  },
  {
   "metadata": {},
   "cell_type": "code",
   "outputs": [],
   "execution_count": null,
   "source": "",
   "id": "5e7129f22da97878"
  },
  {
   "metadata": {},
   "cell_type": "code",
   "outputs": [],
   "execution_count": null,
   "source": "",
   "id": "49e362de424b7595"
  },
  {
   "metadata": {},
   "cell_type": "code",
   "outputs": [],
   "execution_count": null,
   "source": "",
   "id": "aa8e98494c6f834c"
  },
  {
   "metadata": {},
   "cell_type": "code",
   "outputs": [],
   "execution_count": null,
   "source": "",
   "id": "545c48fced4be6d2"
  },
  {
   "metadata": {},
   "cell_type": "code",
   "outputs": [],
   "execution_count": null,
   "source": "",
   "id": "62e5724230d0f8a7"
  },
  {
   "metadata": {},
   "cell_type": "code",
   "outputs": [],
   "execution_count": null,
   "source": "",
   "id": "3adf6a8540ec314"
  },
  {
   "metadata": {},
   "cell_type": "code",
   "outputs": [],
   "execution_count": null,
   "source": "",
   "id": "943774de19813c59"
  },
  {
   "metadata": {},
   "cell_type": "code",
   "outputs": [],
   "execution_count": null,
   "source": "",
   "id": "3d28b3a353090e80"
  },
  {
   "metadata": {},
   "cell_type": "code",
   "outputs": [],
   "execution_count": null,
   "source": "",
   "id": "cb07ac926f00fe67"
  },
  {
   "metadata": {},
   "cell_type": "code",
   "outputs": [],
   "execution_count": null,
   "source": "",
   "id": "8904b0f2fcb02860"
  },
  {
   "metadata": {},
   "cell_type": "code",
   "outputs": [],
   "execution_count": null,
   "source": "",
   "id": "21df68e7fb25fec5"
  },
  {
   "metadata": {},
   "cell_type": "code",
   "outputs": [],
   "execution_count": null,
   "source": "",
   "id": "51647f059c605baf"
  },
  {
   "metadata": {},
   "cell_type": "code",
   "outputs": [],
   "execution_count": null,
   "source": "",
   "id": "7a8164e27361cc7a"
  },
  {
   "metadata": {},
   "cell_type": "code",
   "outputs": [],
   "execution_count": null,
   "source": "",
   "id": "38eb52a50662544c"
  },
  {
   "metadata": {},
   "cell_type": "code",
   "outputs": [],
   "execution_count": null,
   "source": "",
   "id": "841143ba147714d9"
  },
  {
   "metadata": {},
   "cell_type": "code",
   "outputs": [],
   "execution_count": null,
   "source": "",
   "id": "95e080e35152a199"
  },
  {
   "metadata": {},
   "cell_type": "code",
   "outputs": [],
   "execution_count": null,
   "source": "",
   "id": "e761309f228bd247"
  },
  {
   "metadata": {},
   "cell_type": "code",
   "outputs": [],
   "execution_count": null,
   "source": "",
   "id": "ceead466c3ce5bc5"
  },
  {
   "metadata": {},
   "cell_type": "code",
   "outputs": [],
   "execution_count": null,
   "source": "",
   "id": "e55d52eeab2b796b"
  },
  {
   "metadata": {},
   "cell_type": "code",
   "outputs": [],
   "execution_count": null,
   "source": "",
   "id": "9744a5a405b0e9bf"
  },
  {
   "metadata": {},
   "cell_type": "code",
   "outputs": [],
   "execution_count": null,
   "source": "",
   "id": "70a4e64776754415"
  },
  {
   "metadata": {},
   "cell_type": "code",
   "outputs": [],
   "execution_count": null,
   "source": "",
   "id": "71f2d96639eee734"
  },
  {
   "metadata": {},
   "cell_type": "code",
   "outputs": [],
   "execution_count": null,
   "source": "",
   "id": "b3eb9aa895176cf1"
  },
  {
   "metadata": {},
   "cell_type": "code",
   "outputs": [],
   "execution_count": null,
   "source": "",
   "id": "56698bf59967ae74"
  },
  {
   "metadata": {},
   "cell_type": "code",
   "outputs": [],
   "execution_count": null,
   "source": "",
   "id": "2d3abbfb215bcefc"
  },
  {
   "metadata": {},
   "cell_type": "code",
   "outputs": [],
   "execution_count": null,
   "source": "",
   "id": "69093fcedfe3f45c"
  },
  {
   "metadata": {},
   "cell_type": "code",
   "outputs": [],
   "execution_count": null,
   "source": "",
   "id": "63b6327460efd6d9"
  },
  {
   "metadata": {},
   "cell_type": "code",
   "outputs": [],
   "execution_count": null,
   "source": "",
   "id": "d7b5906bea3c2516"
  },
  {
   "metadata": {},
   "cell_type": "code",
   "outputs": [],
   "execution_count": null,
   "source": "",
   "id": "405041ffaad5dbd5"
  },
  {
   "metadata": {},
   "cell_type": "code",
   "outputs": [],
   "execution_count": null,
   "source": "",
   "id": "72badf85f5cafa92"
  },
  {
   "metadata": {},
   "cell_type": "code",
   "outputs": [],
   "execution_count": null,
   "source": "",
   "id": "6d7bfc8deabb0d4a"
  },
  {
   "metadata": {},
   "cell_type": "code",
   "outputs": [],
   "execution_count": null,
   "source": "",
   "id": "4979865547548f50"
  },
  {
   "metadata": {},
   "cell_type": "code",
   "outputs": [],
   "execution_count": null,
   "source": "",
   "id": "88759f7f9aa1d61d"
  },
  {
   "metadata": {},
   "cell_type": "code",
   "outputs": [],
   "execution_count": null,
   "source": "",
   "id": "96a3dfe66d23335b"
  },
  {
   "metadata": {},
   "cell_type": "code",
   "outputs": [],
   "execution_count": null,
   "source": "",
   "id": "f24d54f9a3205f26"
  },
  {
   "metadata": {},
   "cell_type": "code",
   "outputs": [],
   "execution_count": null,
   "source": "",
   "id": "e497a3839d444075"
  },
  {
   "metadata": {},
   "cell_type": "code",
   "outputs": [],
   "execution_count": null,
   "source": "",
   "id": "7d807d0d2f04abd7"
  },
  {
   "metadata": {},
   "cell_type": "code",
   "outputs": [],
   "execution_count": null,
   "source": "",
   "id": "2f98d8433c3f4aef"
  },
  {
   "metadata": {},
   "cell_type": "code",
   "outputs": [],
   "execution_count": null,
   "source": "",
   "id": "c8268129077d7224"
  },
  {
   "metadata": {},
   "cell_type": "code",
   "outputs": [],
   "execution_count": null,
   "source": "",
   "id": "e472e6cd77581cb9"
  },
  {
   "metadata": {},
   "cell_type": "code",
   "outputs": [],
   "execution_count": null,
   "source": "",
   "id": "c72d8c8f1a467e90"
  },
  {
   "metadata": {},
   "cell_type": "code",
   "outputs": [],
   "execution_count": null,
   "source": "",
   "id": "5b32636d58601757"
  },
  {
   "metadata": {},
   "cell_type": "code",
   "outputs": [],
   "execution_count": null,
   "source": "",
   "id": "1739f9f4650ad106"
  },
  {
   "metadata": {},
   "cell_type": "code",
   "outputs": [],
   "execution_count": null,
   "source": "",
   "id": "84b67cd132c0beb2"
  },
  {
   "metadata": {},
   "cell_type": "code",
   "outputs": [],
   "execution_count": null,
   "source": "",
   "id": "50a99194f5751538"
  },
  {
   "metadata": {},
   "cell_type": "code",
   "outputs": [],
   "execution_count": null,
   "source": "",
   "id": "2843c2fd5519ca3e"
  },
  {
   "metadata": {},
   "cell_type": "code",
   "outputs": [],
   "execution_count": null,
   "source": "",
   "id": "9f5efda92bffafa0"
  },
  {
   "metadata": {},
   "cell_type": "code",
   "outputs": [],
   "execution_count": null,
   "source": "",
   "id": "55644b4066a9e66b"
  },
  {
   "metadata": {},
   "cell_type": "code",
   "outputs": [],
   "execution_count": null,
   "source": "",
   "id": "abac4c8598064593"
  },
  {
   "metadata": {},
   "cell_type": "code",
   "outputs": [],
   "execution_count": null,
   "source": "",
   "id": "3e1b6cc785d09c96"
  },
  {
   "metadata": {},
   "cell_type": "code",
   "outputs": [],
   "execution_count": null,
   "source": "",
   "id": "7cffc9910401dfe"
  },
  {
   "metadata": {},
   "cell_type": "code",
   "outputs": [],
   "execution_count": null,
   "source": "",
   "id": "5d902e0a3ce6eb93"
  },
  {
   "metadata": {},
   "cell_type": "code",
   "outputs": [],
   "execution_count": null,
   "source": "",
   "id": "6b4a10fd3e3b46c4"
  },
  {
   "metadata": {},
   "cell_type": "code",
   "outputs": [],
   "execution_count": null,
   "source": "",
   "id": "2da7ddfb6cd37d94"
  },
  {
   "metadata": {},
   "cell_type": "code",
   "outputs": [],
   "execution_count": null,
   "source": "",
   "id": "3152cc298cab2af3"
  },
  {
   "metadata": {},
   "cell_type": "code",
   "outputs": [],
   "execution_count": null,
   "source": "",
   "id": "f5f298bfa7cc4b90"
  },
  {
   "metadata": {},
   "cell_type": "code",
   "outputs": [],
   "execution_count": null,
   "source": "",
   "id": "bcc2ba2f8dd528b5"
  }
 ],
 "metadata": {
  "kernelspec": {
   "display_name": "Python 3",
   "language": "python",
   "name": "python3"
  },
  "language_info": {
   "codemirror_mode": {
    "name": "ipython",
    "version": 2
   },
   "file_extension": ".py",
   "mimetype": "text/x-python",
   "name": "python",
   "nbconvert_exporter": "python",
   "pygments_lexer": "ipython2",
   "version": "2.7.6"
  }
 },
 "nbformat": 4,
 "nbformat_minor": 5
}
