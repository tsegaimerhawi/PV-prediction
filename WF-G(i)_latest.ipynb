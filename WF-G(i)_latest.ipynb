{
 "cells": [
  {
   "cell_type": "code",
   "execution_count": 40,
   "id": "34bcb352",
   "metadata": {},
   "outputs": [],
   "source": [
    "import tensorflow as tf\n",
    "import os\n",
    "import pandas as pd\n",
    "import numpy as np\n",
    "import matplotlib as plt\n",
    "from sklearn.metrics import mean_squared_error as mse\n",
    "from sklearn.preprocessing import MinMaxScaler\n",
    "import warnings\n",
    "import matplotlib.pyplot as plt\n",
    "warnings.filterwarnings('ignore')\n",
    "%matplotlib inline"
   ]
  },
  {
   "cell_type": "code",
   "execution_count": null,
   "id": "97f44b3b-c25f-42bc-b969-0871b1a86d57",
   "metadata": {},
   "outputs": [],
   "source": [
    "\n",
    "\n",
    "# Comments for documentation:\n",
    "# - `import tensorflow as tf`: Import TensorFlow for building and training machine learning models.\n",
    "# - `import os`: Import os module to interact with the operating system, e.g., reading file paths.\n",
    "# - `import pandas as pd`: Import pandas for data manipulation and analysis.\n",
    "# - `import numpy as np`: Import NumPy for numerical operations on arrays and matrices.\n",
    "# - `import matplotlib as plt`: Import matplotlib for creating static, interactive, and animated visualizations in Python.\n",
    "# - `from sklearn.metrics import mean_squared_error as mse`: Import mean_squared_error from sklearn for calculating the MSE metric for model evaluation.\n",
    "# - `from sklearn.preprocessing import MinMaxScaler`: Import MinMaxScaler from sklearn for feature scaling by normalizing or standardizing features.\n",
    "# - `import warnings`: Import warnings module to suppress warnings.\n",
    "# - `import matplotlib.pyplot as plt`: Import pyplot from matplotlib for plotting graphs.\n",
    "# - `warnings.filterwarnings('ignore')`: Set up warnings to ignore them to avoid clutter in the output.\n",
    "# - `%matplotlib inline`: Enable inline plotting for Jupyter notebooks, making plots appear in the notebook itself.\n"
   ]
  },
  {
   "cell_type": "code",
   "execution_count": 41,
   "id": "8de1d777",
   "metadata": {},
   "outputs": [],
   "source": [
    "df = pd.read_csv('timeseries.csv')\n"
   ]
  },
  {
   "cell_type": "code",
   "execution_count": null,
   "id": "188329e0-ee8a-4423-8bbf-497ee7e56aa8",
   "metadata": {},
   "outputs": [],
   "source": [
    " # Load data from a CSV file named 'timeseries.csv' into a pandas DataFrame."
   ]
  },
  {
   "cell_type": "code",
   "execution_count": 42,
   "id": "4aafd42e",
   "metadata": {
    "scrolled": true
   },
   "outputs": [
    {
     "data": {
      "text/plain": [
       "96418                                        20201231:1007\n",
       "96419                                        20201231:1107\n",
       "96420                                        20201231:1207\n",
       "96421                                        20201231:1307\n",
       "96422                                        20201231:1407\n",
       "96423                                        20201231:1507\n",
       "96424                                        20201231:1607\n",
       "96425                                        20201231:1707\n",
       "96426                                        20201231:1807\n",
       "96427                                        20201231:1907\n",
       "96428                                        20201231:2007\n",
       "96429                                        20201231:2107\n",
       "96430                                        20201231:2207\n",
       "96431                                        20201231:2307\n",
       "96433    G(i): Global irradiance on the inclined plane ...\n",
       "96434                           H_sun: Sun height (degree)\n",
       "96435            T2m: 2-m air temperature (degree Celsius)\n",
       "96436                   WS10m: 10-m total wind speed (m/s)\n",
       "96437    Int: 1 means solar radiation values are recons...\n",
       "96441                             PVGIS (c) European Union\n",
       "Name: time, dtype: object"
      ]
     },
     "execution_count": 42,
     "metadata": {},
     "output_type": "execute_result"
    }
   ],
   "source": [
    "df = df.dropna(subset=['time']) \n",
    "df['time'].tail(20)\n",
    "# df['time'][78886]"
   ]
  },
  {
   "cell_type": "code",
   "execution_count": 43,
   "id": "e031791d",
   "metadata": {
    "scrolled": true
   },
   "outputs": [
    {
     "name": "stdout",
     "output_type": "stream",
     "text": [
      "      G(i)  H_sun    T2m  WS10m\n",
      "0        0   0.00  11.17   1.59\n",
      "1        0   0.00  10.67   1.59\n",
      "2        0   0.00  10.11   1.79\n",
      "3        0   0.00   9.88   1.86\n",
      "4    91.98   2.76   9.77   1.93\n",
      "5   432.28  15.67  11.48   1.72\n",
      "6   681.34  27.82  15.42   1.72\n",
      "7   867.69  38.65  19.13   1.72\n",
      "8   987.62  47.15  21.08   1.66\n",
      "9  1034.38  51.71  22.13   1.24\n",
      "G(i)      object\n",
      "H_sun    float64\n",
      "T2m      float64\n",
      "WS10m    float64\n",
      "dtype: object\n"
     ]
    }
   ],
   "source": [
    "df = df[:96431:]  # Truncate the DataFrame to include only the first 96,431 rows.\n",
    "\n",
    "df_multi = df.iloc[:,1:5]  # Select columns from index 1 to 4 (inclusive), typically removing the time column assuming it's at index 0.\n",
    "\n",
    "df.tail(30)  # Display the last 30 rows of the DataFrame to check the end of the dataset.\n",
    "\n",
    "print(df_multi.head(10))  # Print the first 10 rows of the subset DataFrame to verify the correct columns and data.\n",
    "\n",
    "print(df_multi.dtypes)  # Print the data types of the columns in the subset DataFrame to ensure they are appropriate for further analysis.\n"
   ]
  },
  {
   "cell_type": "code",
   "execution_count": 44,
   "id": "d0e5f1b4-1616-49ea-99c4-e2be20b9a56f",
   "metadata": {},
   "outputs": [
    {
     "name": "stdout",
     "output_type": "stream",
     "text": [
      "[<class 'float'>]\n"
     ]
    }
   ],
   "source": [
    "df_multi['G(i)'] = pd.to_numeric(df_multi['G(i)'], errors='coerce')\n",
    "unique_types = df_multi['G(i)'].apply(type).unique()\n",
    "\n",
    "print(unique_types)"
   ]
  },
  {
   "cell_type": "code",
   "execution_count": null,
   "id": "c9edc61b-d943-41af-b082-e941c8951288",
   "metadata": {},
   "outputs": [],
   "source": [
    "df_multi['G(i)'] = pd.to_numeric(df_multi['G(i)'], errors='coerce')  \n",
    "# Convert the 'G(i)' column to numeric types, coercing errors into NaN values to handle non-numeric data safely.\n",
    "\n",
    "unique_types = df_multi['G(i)'].apply(type).unique()  \n",
    "# Apply the 'type' function to each element in the 'G(i)' column and retrieve the unique data types present.\n",
    "\n",
    "print(unique_types)  \n",
    "# Print the array of unique data types found in the 'G(i)' column to inspect the types of data being processed.\n"
   ]
  },
  {
   "cell_type": "code",
   "execution_count": 45,
   "id": "2773ca88-86dc-441c-be2d-202967cc2462",
   "metadata": {},
   "outputs": [
    {
     "name": "stdout",
     "output_type": "stream",
     "text": [
      "Pearson Correlation Coefficient: 0.900361066319861\n"
     ]
    }
   ],
   "source": [
    "df_scaled = df_multi.to_numpy()\n",
    "correlation = df_multi['G(i)'].corr(df_multi['H_sun'])\n",
    "print(\"Pearson Correlation Coefficient:\", correlation)"
   ]
  },
  {
   "cell_type": "code",
   "execution_count": 46,
   "id": "5bdc65e8",
   "metadata": {},
   "outputs": [
    {
     "name": "stdout",
     "output_type": "stream",
     "text": [
      "[ 0.    0.    0.    0.   91.98]\n",
      "432.28\n"
     ]
    }
   ],
   "source": [
    "print(df_scaled[0:5,0]) # this it the input\n",
    "print(df_scaled[5,0]) # this is the output"
   ]
  },
  {
   "cell_type": "code",
   "execution_count": 47,
   "id": "3de6a076",
   "metadata": {},
   "outputs": [],
   "source": [
    "def df_to_X_y(df_as_np, window_size=5):\n",
    "#   df_as_np = df.to_numpy()\n",
    "  X = []\n",
    "  y = []\n",
    "  for i in range(len(df_as_np)-window_size):\n",
    "    row = [a for a in df_as_np[i:i+window_size,0]]\n",
    "    X.append(row)\n",
    "    label = df_as_np[i+window_size,0]\n",
    "    y.append(label)\n",
    "  return np.array(X), np.array(y)"
   ]
  },
  {
   "cell_type": "code",
   "execution_count": 48,
   "id": "0ea1be1c",
   "metadata": {},
   "outputs": [
    {
     "name": "stdout",
     "output_type": "stream",
     "text": [
      "[   0.      0.      0.      0.     91.98  432.28  681.34  867.69  987.62\n",
      " 1034.38  998.94  887.09  702.6   472.43  208.97    0.      0.      0.\n",
      "    0.      0.      0.      0.      0.      0.  ]\n",
      "slfejlksdjlfkjdslkjfjlk\n",
      "0.0\n"
     ]
    },
    {
     "data": {
      "text/plain": [
       "((96407, 24), (96407,))"
      ]
     },
     "execution_count": 48,
     "metadata": {},
     "output_type": "execute_result"
    }
   ],
   "source": [
    "WINDOW_SIZE = 24\n",
    "X1, y1 = df_to_X_y(df_scaled, WINDOW_SIZE)\n",
    "print(X1[0])\n",
    "print(\"slfejlksdjlfkjdslkjfjlk\")\n",
    "print(y1[0])\n",
    "X1.shape, y1.shape"
   ]
  },
  {
   "cell_type": "code",
   "execution_count": 49,
   "id": "8d26efb8",
   "metadata": {},
   "outputs": [
    {
     "data": {
      "text/plain": [
       "((61367, 24), (61367,), (8760, 24), (8760,), (26279, 24), (26279,))"
      ]
     },
     "execution_count": 49,
     "metadata": {},
     "output_type": "execute_result"
    }
   ],
   "source": [
    "X_train1, y_train1 = X1[:61367], y1[:61367]\n",
    "X_val1, y_val1 = X1[61367:70127], y1[61367:70127] # 1 year for validation [61,367 , 70127]\n",
    "X_test1, y_test1 = X1[70128:], y1[70128:] #  1 year testing [70,128 , 78887]\n",
    "X_train1.shape, y_train1.shape, X_val1.shape, y_val1.shape, X_test1.shape, y_test1.shape\n"
   ]
  },
  {
   "cell_type": "code",
   "execution_count": 50,
   "id": "890206a4",
   "metadata": {},
   "outputs": [
    {
     "name": "stdout",
     "output_type": "stream",
     "text": [
      "Model: \"sequential_2\"\n",
      "_________________________________________________________________\n",
      " Layer (type)                Output Shape              Param #   \n",
      "=================================================================\n",
      " lstm_2 (LSTM)               (None, 64)                16896     \n",
      "                                                                 \n",
      " dense_4 (Dense)             (None, 8)                 520       \n",
      "                                                                 \n",
      " dense_5 (Dense)             (None, 1)                 9         \n",
      "                                                                 \n",
      "=================================================================\n",
      "Total params: 17,425\n",
      "Trainable params: 17,425\n",
      "Non-trainable params: 0\n",
      "_________________________________________________________________\n"
     ]
    }
   ],
   "source": [
    "from tensorflow.keras.models import Sequential\n",
    "from tensorflow.keras.layers import *\n",
    "from tensorflow.keras.callbacks import ModelCheckpoint\n",
    "from tensorflow.keras.losses import MeanSquaredError\n",
    "from tensorflow.keras.metrics import RootMeanSquaredError\n",
    "from tensorflow.keras.optimizers import Adam\n",
    "\n",
    "model1 = Sequential()\n",
    "model1.add(InputLayer((24, 1)))\n",
    "model1.add(LSTM(64))\n",
    "model1.add(Dense(8, 'relu'))\n",
    "model1.add(Dense(1, 'linear'))\n",
    "\n",
    "model1.summary()"
   ]
  },
  {
   "cell_type": "code",
   "execution_count": 51,
   "id": "19972ed9",
   "metadata": {},
   "outputs": [],
   "source": [
    "from tensorflow.keras.callbacks import EarlyStopping"
   ]
  },
  {
   "cell_type": "code",
   "execution_count": 52,
   "id": "7addce40",
   "metadata": {},
   "outputs": [],
   "source": [
    "early_stopping = EarlyStopping(monitor='val_loss', min_delta=0.01, patience=10, verbose=1, mode='min')"
   ]
  },
  {
   "cell_type": "code",
   "execution_count": 53,
   "id": "d8219317",
   "metadata": {},
   "outputs": [],
   "source": [
    "cp1 = ModelCheckpoint('model_G(I)/', save_best_only=True)\n",
    "# metrics , learning rate, loss  can be changed \n",
    "model1.compile(loss=MeanSquaredError(), optimizer=Adam(learning_rate=0.001), metrics=[RootMeanSquaredError()])"
   ]
  },
  {
   "cell_type": "code",
   "execution_count": 54,
   "id": "dc237de2",
   "metadata": {
    "scrolled": true
   },
   "outputs": [
    {
     "name": "stdout",
     "output_type": "stream",
     "text": [
      "Epoch 1/100\n",
      "1915/1918 [============================>.] - ETA: 0s - loss: 81293.8438 - root_mean_squared_error: 285.1208"
     ]
    },
    {
     "name": "stderr",
     "output_type": "stream",
     "text": [
      "WARNING:absl:Found untraced functions such as lstm_cell_3_layer_call_fn, lstm_cell_3_layer_call_and_return_conditional_losses while saving (showing 2 of 2). These functions will not be directly callable after loading.\n"
     ]
    },
    {
     "name": "stdout",
     "output_type": "stream",
     "text": [
      "INFO:tensorflow:Assets written to: model_G(I)\\assets\n"
     ]
    },
    {
     "name": "stderr",
     "output_type": "stream",
     "text": [
      "INFO:tensorflow:Assets written to: model_G(I)\\assets\n"
     ]
    },
    {
     "name": "stdout",
     "output_type": "stream",
     "text": [
      "1918/1918 [==============================] - 30s 14ms/step - loss: 81193.7109 - root_mean_squared_error: 284.9451 - val_loss: 11906.5430 - val_root_mean_squared_error: 109.1171\n",
      "Epoch 2/100\n",
      "1917/1918 [============================>.] - ETA: 0s - loss: 8169.0737 - root_mean_squared_error: 90.3829"
     ]
    },
    {
     "name": "stderr",
     "output_type": "stream",
     "text": [
      "WARNING:absl:Found untraced functions such as lstm_cell_3_layer_call_fn, lstm_cell_3_layer_call_and_return_conditional_losses while saving (showing 2 of 2). These functions will not be directly callable after loading.\n"
     ]
    },
    {
     "name": "stdout",
     "output_type": "stream",
     "text": [
      "INFO:tensorflow:Assets written to: model_G(I)\\assets\n"
     ]
    },
    {
     "name": "stderr",
     "output_type": "stream",
     "text": [
      "INFO:tensorflow:Assets written to: model_G(I)\\assets\n"
     ]
    },
    {
     "name": "stdout",
     "output_type": "stream",
     "text": [
      "1918/1918 [==============================] - 28s 15ms/step - loss: 8167.7212 - root_mean_squared_error: 90.3754 - val_loss: 7781.6357 - val_root_mean_squared_error: 88.2136\n",
      "Epoch 3/100\n",
      "1918/1918 [==============================] - ETA: 0s - loss: 6923.4565 - root_mean_squared_error: 83.2073"
     ]
    },
    {
     "name": "stderr",
     "output_type": "stream",
     "text": [
      "WARNING:absl:Found untraced functions such as lstm_cell_3_layer_call_fn, lstm_cell_3_layer_call_and_return_conditional_losses while saving (showing 2 of 2). These functions will not be directly callable after loading.\n"
     ]
    },
    {
     "name": "stdout",
     "output_type": "stream",
     "text": [
      "INFO:tensorflow:Assets written to: model_G(I)\\assets\n"
     ]
    },
    {
     "name": "stderr",
     "output_type": "stream",
     "text": [
      "INFO:tensorflow:Assets written to: model_G(I)\\assets\n"
     ]
    },
    {
     "name": "stdout",
     "output_type": "stream",
     "text": [
      "1918/1918 [==============================] - 28s 15ms/step - loss: 6923.4565 - root_mean_squared_error: 83.2073 - val_loss: 7652.2280 - val_root_mean_squared_error: 87.4770\n",
      "Epoch 4/100\n",
      "1916/1918 [============================>.] - ETA: 0s - loss: 6824.1646 - root_mean_squared_error: 82.6085"
     ]
    },
    {
     "name": "stderr",
     "output_type": "stream",
     "text": [
      "WARNING:absl:Found untraced functions such as lstm_cell_3_layer_call_fn, lstm_cell_3_layer_call_and_return_conditional_losses while saving (showing 2 of 2). These functions will not be directly callable after loading.\n"
     ]
    },
    {
     "name": "stdout",
     "output_type": "stream",
     "text": [
      "INFO:tensorflow:Assets written to: model_G(I)\\assets\n"
     ]
    },
    {
     "name": "stderr",
     "output_type": "stream",
     "text": [
      "INFO:tensorflow:Assets written to: model_G(I)\\assets\n"
     ]
    },
    {
     "name": "stdout",
     "output_type": "stream",
     "text": [
      "1918/1918 [==============================] - 28s 15ms/step - loss: 6820.8062 - root_mean_squared_error: 82.5882 - val_loss: 7486.0229 - val_root_mean_squared_error: 86.5218\n",
      "Epoch 5/100\n",
      "1918/1918 [==============================] - 21s 11ms/step - loss: 6649.1680 - root_mean_squared_error: 81.5424 - val_loss: 7727.6875 - val_root_mean_squared_error: 87.9073\n",
      "Epoch 6/100\n",
      "1918/1918 [==============================] - 21s 11ms/step - loss: 6526.1655 - root_mean_squared_error: 80.7847 - val_loss: 7488.2827 - val_root_mean_squared_error: 86.5349\n",
      "Epoch 7/100\n",
      "1918/1918 [==============================] - 23s 12ms/step - loss: 6546.5732 - root_mean_squared_error: 80.9109 - val_loss: 7486.6099 - val_root_mean_squared_error: 86.5252\n",
      "Epoch 8/100\n",
      "1916/1918 [============================>.] - ETA: 0s - loss: 6439.2637 - root_mean_squared_error: 80.2450"
     ]
    },
    {
     "name": "stderr",
     "output_type": "stream",
     "text": [
      "WARNING:absl:Found untraced functions such as lstm_cell_3_layer_call_fn, lstm_cell_3_layer_call_and_return_conditional_losses while saving (showing 2 of 2). These functions will not be directly callable after loading.\n"
     ]
    },
    {
     "name": "stdout",
     "output_type": "stream",
     "text": [
      "INFO:tensorflow:Assets written to: model_G(I)\\assets\n"
     ]
    },
    {
     "name": "stderr",
     "output_type": "stream",
     "text": [
      "INFO:tensorflow:Assets written to: model_G(I)\\assets\n"
     ]
    },
    {
     "name": "stdout",
     "output_type": "stream",
     "text": [
      "1918/1918 [==============================] - 32s 16ms/step - loss: 6448.6475 - root_mean_squared_error: 80.3035 - val_loss: 7285.5205 - val_root_mean_squared_error: 85.3553\n",
      "Epoch 9/100\n",
      "1918/1918 [==============================] - 24s 12ms/step - loss: 6350.5088 - root_mean_squared_error: 79.6901 - val_loss: 7574.8208 - val_root_mean_squared_error: 87.0334\n",
      "Epoch 10/100\n",
      "1917/1918 [============================>.] - ETA: 0s - loss: 6368.9160 - root_mean_squared_error: 79.8055"
     ]
    },
    {
     "name": "stderr",
     "output_type": "stream",
     "text": [
      "WARNING:absl:Found untraced functions such as lstm_cell_3_layer_call_fn, lstm_cell_3_layer_call_and_return_conditional_losses while saving (showing 2 of 2). These functions will not be directly callable after loading.\n"
     ]
    },
    {
     "name": "stdout",
     "output_type": "stream",
     "text": [
      "INFO:tensorflow:Assets written to: model_G(I)\\assets\n"
     ]
    },
    {
     "name": "stderr",
     "output_type": "stream",
     "text": [
      "INFO:tensorflow:Assets written to: model_G(I)\\assets\n"
     ]
    },
    {
     "name": "stdout",
     "output_type": "stream",
     "text": [
      "1918/1918 [==============================] - 30s 16ms/step - loss: 6368.0620 - root_mean_squared_error: 79.8001 - val_loss: 7231.2002 - val_root_mean_squared_error: 85.0365\n",
      "Epoch 11/100\n",
      "1918/1918 [==============================] - 21s 11ms/step - loss: 6295.3428 - root_mean_squared_error: 79.3432 - val_loss: 7641.2979 - val_root_mean_squared_error: 87.4145\n",
      "Epoch 12/100\n",
      "1918/1918 [==============================] - 23s 12ms/step - loss: 6270.8320 - root_mean_squared_error: 79.1886 - val_loss: 7345.1196 - val_root_mean_squared_error: 85.7037\n",
      "Epoch 13/100\n",
      "1918/1918 [==============================] - 22s 11ms/step - loss: 6265.3511 - root_mean_squared_error: 79.1540 - val_loss: 7594.9263 - val_root_mean_squared_error: 87.1489\n",
      "Epoch 14/100\n",
      "1918/1918 [==============================] - 23s 12ms/step - loss: 6246.9526 - root_mean_squared_error: 79.0377 - val_loss: 7433.0430 - val_root_mean_squared_error: 86.2151\n",
      "Epoch 15/100\n",
      "1918/1918 [==============================] - ETA: 0s - loss: 6299.8721 - root_mean_squared_error: 79.3717"
     ]
    },
    {
     "name": "stderr",
     "output_type": "stream",
     "text": [
      "WARNING:absl:Found untraced functions such as lstm_cell_3_layer_call_fn, lstm_cell_3_layer_call_and_return_conditional_losses while saving (showing 2 of 2). These functions will not be directly callable after loading.\n"
     ]
    },
    {
     "name": "stdout",
     "output_type": "stream",
     "text": [
      "INFO:tensorflow:Assets written to: model_G(I)\\assets\n"
     ]
    },
    {
     "name": "stderr",
     "output_type": "stream",
     "text": [
      "INFO:tensorflow:Assets written to: model_G(I)\\assets\n"
     ]
    },
    {
     "name": "stdout",
     "output_type": "stream",
     "text": [
      "1918/1918 [==============================] - 31s 16ms/step - loss: 6299.8721 - root_mean_squared_error: 79.3717 - val_loss: 7133.3145 - val_root_mean_squared_error: 84.4590\n",
      "Epoch 16/100\n",
      "1918/1918 [==============================] - 22s 11ms/step - loss: 6185.4800 - root_mean_squared_error: 78.6478 - val_loss: 7281.5137 - val_root_mean_squared_error: 85.3318\n",
      "Epoch 17/100\n",
      "1918/1918 [==============================] - 22s 11ms/step - loss: 6235.5742 - root_mean_squared_error: 78.9657 - val_loss: 7390.6836 - val_root_mean_squared_error: 85.9691\n",
      "Epoch 18/100\n",
      "1918/1918 [==============================] - 22s 12ms/step - loss: 6252.8472 - root_mean_squared_error: 79.0749 - val_loss: 7216.0674 - val_root_mean_squared_error: 84.9474\n",
      "Epoch 19/100\n",
      "1914/1918 [============================>.] - ETA: 0s - loss: 6191.3608 - root_mean_squared_error: 78.6852"
     ]
    },
    {
     "name": "stderr",
     "output_type": "stream",
     "text": [
      "WARNING:absl:Found untraced functions such as lstm_cell_3_layer_call_fn, lstm_cell_3_layer_call_and_return_conditional_losses while saving (showing 2 of 2). These functions will not be directly callable after loading.\n"
     ]
    },
    {
     "name": "stdout",
     "output_type": "stream",
     "text": [
      "INFO:tensorflow:Assets written to: model_G(I)\\assets\n"
     ]
    },
    {
     "name": "stderr",
     "output_type": "stream",
     "text": [
      "INFO:tensorflow:Assets written to: model_G(I)\\assets\n"
     ]
    },
    {
     "name": "stdout",
     "output_type": "stream",
     "text": [
      "1918/1918 [==============================] - 31s 16ms/step - loss: 6187.3037 - root_mean_squared_error: 78.6594 - val_loss: 7129.9956 - val_root_mean_squared_error: 84.4393\n",
      "Epoch 20/100\n",
      "1918/1918 [==============================] - 24s 12ms/step - loss: 6184.6733 - root_mean_squared_error: 78.6427 - val_loss: 7222.1318 - val_root_mean_squared_error: 84.9831\n",
      "Epoch 21/100\n",
      "1918/1918 [==============================] - 22s 12ms/step - loss: 6182.8076 - root_mean_squared_error: 78.6308 - val_loss: 7291.9238 - val_root_mean_squared_error: 85.3928\n",
      "Epoch 22/100\n",
      "1918/1918 [==============================] - 24s 12ms/step - loss: 6207.1592 - root_mean_squared_error: 78.7855 - val_loss: 7248.8667 - val_root_mean_squared_error: 85.1403\n",
      "Epoch 23/100\n",
      "1918/1918 [==============================] - 25s 13ms/step - loss: 6140.7266 - root_mean_squared_error: 78.3628 - val_loss: 7153.0967 - val_root_mean_squared_error: 84.5760\n",
      "Epoch 24/100\n",
      "1918/1918 [==============================] - 24s 12ms/step - loss: 6107.3569 - root_mean_squared_error: 78.1496 - val_loss: 7519.0469 - val_root_mean_squared_error: 86.7124\n",
      "Epoch 25/100\n",
      "1918/1918 [==============================] - 23s 12ms/step - loss: 6118.1841 - root_mean_squared_error: 78.2188 - val_loss: 7225.6504 - val_root_mean_squared_error: 85.0038\n",
      "Epoch 26/100\n",
      "1918/1918 [==============================] - 23s 12ms/step - loss: 6064.1499 - root_mean_squared_error: 77.8727 - val_loss: 7478.5181 - val_root_mean_squared_error: 86.4784\n",
      "Epoch 27/100\n",
      "1918/1918 [==============================] - 23s 12ms/step - loss: 6118.5063 - root_mean_squared_error: 78.2209 - val_loss: 7256.1504 - val_root_mean_squared_error: 85.1830\n",
      "Epoch 28/100\n",
      "1918/1918 [==============================] - 25s 13ms/step - loss: 6056.0464 - root_mean_squared_error: 77.8206 - val_loss: 7331.7710 - val_root_mean_squared_error: 85.6258\n",
      "Epoch 29/100\n",
      "1918/1918 [==============================] - 23s 12ms/step - loss: 6100.3311 - root_mean_squared_error: 78.1046 - val_loss: 7405.9956 - val_root_mean_squared_error: 86.0581\n",
      "Epoch 29: early stopping\n"
     ]
    },
    {
     "data": {
      "text/plain": [
       "<keras.callbacks.History at 0x2421f6340a0>"
      ]
     },
     "execution_count": 54,
     "metadata": {},
     "output_type": "execute_result"
    }
   ],
   "source": [
    "model1.fit(X_train1, y_train1, validation_data=(X_val1, y_val1), epochs=100, callbacks=[cp1,early_stopping])"
   ]
  },
  {
   "cell_type": "code",
   "execution_count": 55,
   "id": "a454c7f1",
   "metadata": {},
   "outputs": [],
   "source": [
    "from tensorflow.keras.models import load_model\n",
    "model1 = load_model('model_G(I)/')"
   ]
  },
  {
   "cell_type": "code",
   "execution_count": 56,
   "id": "bdda30eb",
   "metadata": {},
   "outputs": [
    {
     "name": "stdout",
     "output_type": "stream",
     "text": [
      "1918/1918 [==============================] - 9s 4ms/step\n"
     ]
    },
    {
     "data": {
      "text/html": [
       "<div>\n",
       "<style scoped>\n",
       "    .dataframe tbody tr th:only-of-type {\n",
       "        vertical-align: middle;\n",
       "    }\n",
       "\n",
       "    .dataframe tbody tr th {\n",
       "        vertical-align: top;\n",
       "    }\n",
       "\n",
       "    .dataframe thead th {\n",
       "        text-align: right;\n",
       "    }\n",
       "</style>\n",
       "<table border=\"1\" class=\"dataframe\">\n",
       "  <thead>\n",
       "    <tr style=\"text-align: right;\">\n",
       "      <th></th>\n",
       "      <th>Train Predictions</th>\n",
       "      <th>Actuals</th>\n",
       "    </tr>\n",
       "  </thead>\n",
       "  <tbody>\n",
       "    <tr>\n",
       "      <th>0</th>\n",
       "      <td>0.259255</td>\n",
       "      <td>0.00</td>\n",
       "    </tr>\n",
       "    <tr>\n",
       "      <th>1</th>\n",
       "      <td>0.239964</td>\n",
       "      <td>0.00</td>\n",
       "    </tr>\n",
       "    <tr>\n",
       "      <th>2</th>\n",
       "      <td>-0.179505</td>\n",
       "      <td>0.00</td>\n",
       "    </tr>\n",
       "    <tr>\n",
       "      <th>3</th>\n",
       "      <td>-0.612614</td>\n",
       "      <td>0.00</td>\n",
       "    </tr>\n",
       "    <tr>\n",
       "      <th>4</th>\n",
       "      <td>78.625801</td>\n",
       "      <td>17.78</td>\n",
       "    </tr>\n",
       "    <tr>\n",
       "      <th>5</th>\n",
       "      <td>344.146912</td>\n",
       "      <td>443.28</td>\n",
       "    </tr>\n",
       "    <tr>\n",
       "      <th>6</th>\n",
       "      <td>707.776428</td>\n",
       "      <td>642.75</td>\n",
       "    </tr>\n",
       "    <tr>\n",
       "      <th>7</th>\n",
       "      <td>833.272644</td>\n",
       "      <td>860.81</td>\n",
       "    </tr>\n",
       "    <tr>\n",
       "      <th>8</th>\n",
       "      <td>1017.932434</td>\n",
       "      <td>973.48</td>\n",
       "    </tr>\n",
       "    <tr>\n",
       "      <th>9</th>\n",
       "      <td>1063.959229</td>\n",
       "      <td>987.11</td>\n",
       "    </tr>\n",
       "    <tr>\n",
       "      <th>10</th>\n",
       "      <td>982.049500</td>\n",
       "      <td>948.68</td>\n",
       "    </tr>\n",
       "    <tr>\n",
       "      <th>11</th>\n",
       "      <td>841.859558</td>\n",
       "      <td>760.16</td>\n",
       "    </tr>\n",
       "    <tr>\n",
       "      <th>12</th>\n",
       "      <td>552.635620</td>\n",
       "      <td>600.61</td>\n",
       "    </tr>\n",
       "    <tr>\n",
       "      <th>13</th>\n",
       "      <td>408.750336</td>\n",
       "      <td>399.73</td>\n",
       "    </tr>\n",
       "    <tr>\n",
       "      <th>14</th>\n",
       "      <td>166.993637</td>\n",
       "      <td>154.07</td>\n",
       "    </tr>\n",
       "    <tr>\n",
       "      <th>15</th>\n",
       "      <td>-1.403196</td>\n",
       "      <td>0.00</td>\n",
       "    </tr>\n",
       "    <tr>\n",
       "      <th>16</th>\n",
       "      <td>0.382555</td>\n",
       "      <td>0.00</td>\n",
       "    </tr>\n",
       "    <tr>\n",
       "      <th>17</th>\n",
       "      <td>0.106441</td>\n",
       "      <td>0.00</td>\n",
       "    </tr>\n",
       "    <tr>\n",
       "      <th>18</th>\n",
       "      <td>0.052390</td>\n",
       "      <td>0.00</td>\n",
       "    </tr>\n",
       "    <tr>\n",
       "      <th>19</th>\n",
       "      <td>0.034859</td>\n",
       "      <td>0.00</td>\n",
       "    </tr>\n",
       "    <tr>\n",
       "      <th>20</th>\n",
       "      <td>0.066794</td>\n",
       "      <td>0.00</td>\n",
       "    </tr>\n",
       "    <tr>\n",
       "      <th>21</th>\n",
       "      <td>0.107743</td>\n",
       "      <td>0.00</td>\n",
       "    </tr>\n",
       "    <tr>\n",
       "      <th>22</th>\n",
       "      <td>0.136525</td>\n",
       "      <td>0.00</td>\n",
       "    </tr>\n",
       "    <tr>\n",
       "      <th>23</th>\n",
       "      <td>0.251831</td>\n",
       "      <td>0.00</td>\n",
       "    </tr>\n",
       "    <tr>\n",
       "      <th>24</th>\n",
       "      <td>0.311368</td>\n",
       "      <td>0.00</td>\n",
       "    </tr>\n",
       "    <tr>\n",
       "      <th>25</th>\n",
       "      <td>0.305168</td>\n",
       "      <td>0.00</td>\n",
       "    </tr>\n",
       "    <tr>\n",
       "      <th>26</th>\n",
       "      <td>-0.068556</td>\n",
       "      <td>0.00</td>\n",
       "    </tr>\n",
       "    <tr>\n",
       "      <th>27</th>\n",
       "      <td>-0.587142</td>\n",
       "      <td>0.00</td>\n",
       "    </tr>\n",
       "    <tr>\n",
       "      <th>28</th>\n",
       "      <td>5.888550</td>\n",
       "      <td>63.82</td>\n",
       "    </tr>\n",
       "    <tr>\n",
       "      <th>29</th>\n",
       "      <td>406.653076</td>\n",
       "      <td>397.69</td>\n",
       "    </tr>\n",
       "  </tbody>\n",
       "</table>\n",
       "</div>"
      ],
      "text/plain": [
       "    Train Predictions  Actuals\n",
       "0            0.259255     0.00\n",
       "1            0.239964     0.00\n",
       "2           -0.179505     0.00\n",
       "3           -0.612614     0.00\n",
       "4           78.625801    17.78\n",
       "5          344.146912   443.28\n",
       "6          707.776428   642.75\n",
       "7          833.272644   860.81\n",
       "8         1017.932434   973.48\n",
       "9         1063.959229   987.11\n",
       "10         982.049500   948.68\n",
       "11         841.859558   760.16\n",
       "12         552.635620   600.61\n",
       "13         408.750336   399.73\n",
       "14         166.993637   154.07\n",
       "15          -1.403196     0.00\n",
       "16           0.382555     0.00\n",
       "17           0.106441     0.00\n",
       "18           0.052390     0.00\n",
       "19           0.034859     0.00\n",
       "20           0.066794     0.00\n",
       "21           0.107743     0.00\n",
       "22           0.136525     0.00\n",
       "23           0.251831     0.00\n",
       "24           0.311368     0.00\n",
       "25           0.305168     0.00\n",
       "26          -0.068556     0.00\n",
       "27          -0.587142     0.00\n",
       "28           5.888550    63.82\n",
       "29         406.653076   397.69"
      ]
     },
     "execution_count": 56,
     "metadata": {},
     "output_type": "execute_result"
    }
   ],
   "source": [
    "train_predictions = model1.predict(X_train1).flatten()\n",
    "train_results = pd.DataFrame(data={'Train Predictions':train_predictions, 'Actuals':y_train1.flatten()})\n",
    "train_results.head(30)"
   ]
  },
  {
   "cell_type": "code",
   "execution_count": 57,
   "id": "50fdd92d",
   "metadata": {},
   "outputs": [
    {
     "data": {
      "text/plain": [
       "[<matplotlib.lines.Line2D at 0x24233e7da30>]"
      ]
     },
     "execution_count": 57,
     "metadata": {},
     "output_type": "execute_result"
    },
    {
     "data": {
      "image/png": "[encoded data removed]",
      "text/plain": [
       "<Figure size 640x480 with 1 Axes>"
      ]
     },
     "metadata": {},
     "output_type": "display_data"
    }
   ],
   "source": [
    "%matplotlib inline\n",
    "\n",
    "import matplotlib.pyplot as plt\n",
    "plt.plot(train_results['Train Predictions'][50:100])\n",
    "plt.plot(train_results['Actuals'][50:100])"
   ]
  },
  {
   "cell_type": "code",
   "execution_count": 58,
   "id": "479e2029",
   "metadata": {},
   "outputs": [
    {
     "name": "stdout",
     "output_type": "stream",
     "text": [
      "274/274 [==============================] - 1s 5ms/step\n"
     ]
    },
    {
     "data": {
      "text/html": [
       "<div>\n",
       "<style scoped>\n",
       "    .dataframe tbody tr th:only-of-type {\n",
       "        vertical-align: middle;\n",
       "    }\n",
       "\n",
       "    .dataframe tbody tr th {\n",
       "        vertical-align: top;\n",
       "    }\n",
       "\n",
       "    .dataframe thead th {\n",
       "        text-align: right;\n",
       "    }\n",
       "</style>\n",
       "<table border=\"1\" class=\"dataframe\">\n",
       "  <thead>\n",
       "    <tr style=\"text-align: right;\">\n",
       "      <th></th>\n",
       "      <th>Val Predictions</th>\n",
       "      <th>Actuals</th>\n",
       "    </tr>\n",
       "  </thead>\n",
       "  <tbody>\n",
       "    <tr>\n",
       "      <th>0</th>\n",
       "      <td>0.152401</td>\n",
       "      <td>0.00</td>\n",
       "    </tr>\n",
       "    <tr>\n",
       "      <th>1</th>\n",
       "      <td>0.249992</td>\n",
       "      <td>0.00</td>\n",
       "    </tr>\n",
       "    <tr>\n",
       "      <th>2</th>\n",
       "      <td>0.225632</td>\n",
       "      <td>0.00</td>\n",
       "    </tr>\n",
       "    <tr>\n",
       "      <th>3</th>\n",
       "      <td>-0.213323</td>\n",
       "      <td>0.00</td>\n",
       "    </tr>\n",
       "    <tr>\n",
       "      <th>4</th>\n",
       "      <td>-0.616825</td>\n",
       "      <td>0.00</td>\n",
       "    </tr>\n",
       "    <tr>\n",
       "      <th>5</th>\n",
       "      <td>97.532967</td>\n",
       "      <td>87.44</td>\n",
       "    </tr>\n",
       "    <tr>\n",
       "      <th>6</th>\n",
       "      <td>441.184875</td>\n",
       "      <td>429.21</td>\n",
       "    </tr>\n",
       "    <tr>\n",
       "      <th>7</th>\n",
       "      <td>702.814636</td>\n",
       "      <td>701.00</td>\n",
       "    </tr>\n",
       "    <tr>\n",
       "      <th>8</th>\n",
       "      <td>891.181213</td>\n",
       "      <td>896.93</td>\n",
       "    </tr>\n",
       "    <tr>\n",
       "      <th>9</th>\n",
       "      <td>1026.300903</td>\n",
       "      <td>1032.36</td>\n",
       "    </tr>\n",
       "    <tr>\n",
       "      <th>10</th>\n",
       "      <td>1075.437988</td>\n",
       "      <td>1080.82</td>\n",
       "    </tr>\n",
       "    <tr>\n",
       "      <th>11</th>\n",
       "      <td>1040.378662</td>\n",
       "      <td>1038.31</td>\n",
       "    </tr>\n",
       "    <tr>\n",
       "      <th>12</th>\n",
       "      <td>925.178894</td>\n",
       "      <td>928.92</td>\n",
       "    </tr>\n",
       "    <tr>\n",
       "      <th>13</th>\n",
       "      <td>739.167114</td>\n",
       "      <td>746.73</td>\n",
       "    </tr>\n",
       "    <tr>\n",
       "      <th>14</th>\n",
       "      <td>513.034668</td>\n",
       "      <td>500.28</td>\n",
       "    </tr>\n",
       "    <tr>\n",
       "      <th>15</th>\n",
       "      <td>236.622955</td>\n",
       "      <td>231.22</td>\n",
       "    </tr>\n",
       "    <tr>\n",
       "      <th>16</th>\n",
       "      <td>-5.683664</td>\n",
       "      <td>0.00</td>\n",
       "    </tr>\n",
       "    <tr>\n",
       "      <th>17</th>\n",
       "      <td>0.203484</td>\n",
       "      <td>0.00</td>\n",
       "    </tr>\n",
       "    <tr>\n",
       "      <th>18</th>\n",
       "      <td>0.081992</td>\n",
       "      <td>0.00</td>\n",
       "    </tr>\n",
       "    <tr>\n",
       "      <th>19</th>\n",
       "      <td>-0.019134</td>\n",
       "      <td>0.00</td>\n",
       "    </tr>\n",
       "  </tbody>\n",
       "</table>\n",
       "</div>"
      ],
      "text/plain": [
       "    Val Predictions  Actuals\n",
       "0          0.152401     0.00\n",
       "1          0.249992     0.00\n",
       "2          0.225632     0.00\n",
       "3         -0.213323     0.00\n",
       "4         -0.616825     0.00\n",
       "5         97.532967    87.44\n",
       "6        441.184875   429.21\n",
       "7        702.814636   701.00\n",
       "8        891.181213   896.93\n",
       "9       1026.300903  1032.36\n",
       "10      1075.437988  1080.82\n",
       "11      1040.378662  1038.31\n",
       "12       925.178894   928.92\n",
       "13       739.167114   746.73\n",
       "14       513.034668   500.28\n",
       "15       236.622955   231.22\n",
       "16        -5.683664     0.00\n",
       "17         0.203484     0.00\n",
       "18         0.081992     0.00\n",
       "19        -0.019134     0.00"
      ]
     },
     "execution_count": 58,
     "metadata": {},
     "output_type": "execute_result"
    }
   ],
   "source": [
    "\n",
    "val_predictions = model1.predict(X_val1).flatten()\n",
    "val_results = pd.DataFrame(data={'Val Predictions':val_predictions, 'Actuals':y_val1.flatten()})\n",
    "val_results.head(20)"
   ]
  },
  {
   "cell_type": "code",
   "execution_count": 59,
   "id": "f535c6a7",
   "metadata": {},
   "outputs": [
    {
     "data": {
      "text/plain": [
       "[<matplotlib.lines.Line2D at 0x24212803dc0>]"
      ]
     },
     "execution_count": 59,
     "metadata": {},
     "output_type": "execute_result"
    },
    {
     "data": {
      "image/png": "[encoded data removed]",
      "text/plain": [
       "<Figure size 640x480 with 1 Axes>"
      ]
     },
     "metadata": {},
     "output_type": "display_data"
    }
   ],
   "source": [
    "plt.plot(val_results['Val Predictions'][50:100])\n",
    "plt.plot(val_results['Actuals'][50:100])"
   ]
  },
  {
   "cell_type": "code",
   "execution_count": 60,
   "id": "d68a14e7",
   "metadata": {},
   "outputs": [
    {
     "name": "stdout",
     "output_type": "stream",
     "text": [
      "822/822 [==============================] - 4s 5ms/step\n"
     ]
    },
    {
     "data": {
      "text/html": [
       "<div>\n",
       "<style scoped>\n",
       "    .dataframe tbody tr th:only-of-type {\n",
       "        vertical-align: middle;\n",
       "    }\n",
       "\n",
       "    .dataframe tbody tr th {\n",
       "        vertical-align: top;\n",
       "    }\n",
       "\n",
       "    .dataframe thead th {\n",
       "        text-align: right;\n",
       "    }\n",
       "</style>\n",
       "<table border=\"1\" class=\"dataframe\">\n",
       "  <thead>\n",
       "    <tr style=\"text-align: right;\">\n",
       "      <th></th>\n",
       "      <th>Test Predictions</th>\n",
       "      <th>Actuals</th>\n",
       "    </tr>\n",
       "  </thead>\n",
       "  <tbody>\n",
       "    <tr>\n",
       "      <th>0</th>\n",
       "      <td>0.316673</td>\n",
       "      <td>0.00</td>\n",
       "    </tr>\n",
       "    <tr>\n",
       "      <th>1</th>\n",
       "      <td>0.314903</td>\n",
       "      <td>0.00</td>\n",
       "    </tr>\n",
       "    <tr>\n",
       "      <th>2</th>\n",
       "      <td>-0.054024</td>\n",
       "      <td>0.00</td>\n",
       "    </tr>\n",
       "    <tr>\n",
       "      <th>3</th>\n",
       "      <td>-0.589585</td>\n",
       "      <td>0.00</td>\n",
       "    </tr>\n",
       "    <tr>\n",
       "      <th>4</th>\n",
       "      <td>6.071582</td>\n",
       "      <td>26.93</td>\n",
       "    </tr>\n",
       "    <tr>\n",
       "      <th>...</th>\n",
       "      <td>...</td>\n",
       "      <td>...</td>\n",
       "    </tr>\n",
       "    <tr>\n",
       "      <th>26274</th>\n",
       "      <td>0.013195</td>\n",
       "      <td>0.00</td>\n",
       "    </tr>\n",
       "    <tr>\n",
       "      <th>26275</th>\n",
       "      <td>-0.020417</td>\n",
       "      <td>0.00</td>\n",
       "    </tr>\n",
       "    <tr>\n",
       "      <th>26276</th>\n",
       "      <td>0.033107</td>\n",
       "      <td>0.00</td>\n",
       "    </tr>\n",
       "    <tr>\n",
       "      <th>26277</th>\n",
       "      <td>0.119970</td>\n",
       "      <td>0.00</td>\n",
       "    </tr>\n",
       "    <tr>\n",
       "      <th>26278</th>\n",
       "      <td>0.116626</td>\n",
       "      <td>0.00</td>\n",
       "    </tr>\n",
       "  </tbody>\n",
       "</table>\n",
       "<p>26279 rows × 2 columns</p>\n",
       "</div>"
      ],
      "text/plain": [
       "       Test Predictions  Actuals\n",
       "0              0.316673     0.00\n",
       "1              0.314903     0.00\n",
       "2             -0.054024     0.00\n",
       "3             -0.589585     0.00\n",
       "4              6.071582    26.93\n",
       "...                 ...      ...\n",
       "26274          0.013195     0.00\n",
       "26275         -0.020417     0.00\n",
       "26276          0.033107     0.00\n",
       "26277          0.119970     0.00\n",
       "26278          0.116626     0.00\n",
       "\n",
       "[26279 rows x 2 columns]"
      ]
     },
     "execution_count": 60,
     "metadata": {},
     "output_type": "execute_result"
    }
   ],
   "source": [
    "test_predictions = model1.predict(X_test1).flatten()\n",
    "test_results = pd.DataFrame(data={'Test Predictions':test_predictions, 'Actuals':y_test1.flatten()})\n",
    "test_results"
   ]
  },
  {
   "cell_type": "code",
   "execution_count": 61,
   "id": "91a07b9d",
   "metadata": {},
   "outputs": [],
   "source": [
    "from sklearn.metrics import mean_squared_error as mse\n",
    "\n",
    "def plot_predictions1(model, X, y, start=50, end=100):\n",
    "  predictions = model.predict(X).flatten()\n",
    "  df = pd.DataFrame(data={'Predictions': predictions, 'Actuals':y})\n",
    "  plt.plot(df['Predictions'][start:end])\n",
    "  plt.plot(df['Actuals'][start:end])\n",
    "  return df, mse(predictions, y)"
   ]
  },
  {
   "cell_type": "code",
   "execution_count": 62,
   "id": "86df6333",
   "metadata": {},
   "outputs": [
    {
     "name": "stdout",
     "output_type": "stream",
     "text": [
      "822/822 [==============================] - 4s 5ms/step\n"
     ]
    },
    {
     "data": {
      "text/plain": [
       "(       Predictions  Actuals\n",
       " 0         0.316673     0.00\n",
       " 1         0.314903     0.00\n",
       " 2        -0.054024     0.00\n",
       " 3        -0.589585     0.00\n",
       " 4         6.071582    26.93\n",
       " ...            ...      ...\n",
       " 26274     0.013195     0.00\n",
       " 26275    -0.020417     0.00\n",
       " 26276     0.033107     0.00\n",
       " 26277     0.119970     0.00\n",
       " 26278     0.116626     0.00\n",
       " \n",
       " [26279 rows x 2 columns],\n",
       " 5392.964826996144)"
      ]
     },
     "execution_count": 62,
     "metadata": {},
     "output_type": "execute_result"
    },
    {
     "data": {
      "image/png": "[encoded data removed]",
      "text/plain": [
       "<Figure size 640x480 with 1 Axes>"
      ]
     },
     "metadata": {},
     "output_type": "display_data"
    }
   ],
   "source": [
    "plot_predictions1(model1, X_test1, y_test1.flatten())"
   ]
  },
  {
   "cell_type": "code",
   "execution_count": 64,
   "id": "05d10996",
   "metadata": {},
   "outputs": [
    {
     "name": "stdout",
     "output_type": "stream",
     "text": [
      "<class 'numpy.ndarray'>\n",
      "(24,)\n",
      "[[[   0.  ]\n",
      "  [   0.  ]\n",
      "  [  32.27]\n",
      "  [ 390.79]\n",
      "  [ 662.61]\n",
      "  [ 859.19]\n",
      "  [ 984.91]\n",
      "  [1037.92]\n",
      "  [1002.38]\n",
      "  [ 894.79]\n",
      "  [ 712.07]\n",
      "  [ 467.98]\n",
      "  [ 205.25]\n",
      "  [   0.  ]\n",
      "  [   0.  ]\n",
      "  [   0.  ]\n",
      "  [   0.  ]\n",
      "  [   0.  ]\n",
      "  [   0.  ]\n",
      "  [   0.  ]\n",
      "  [   0.  ]\n",
      "  [   0.  ]\n",
      "  [   0.  ]\n",
      "  [   0.  ]]]\n",
      "1/1 [==============================] - 0s 432ms/step\n",
      "[[-0.07666707]]\n"
     ]
    }
   ],
   "source": [
    "kkk = df_scaled[78866:78890,0]\n",
    "print(type(kkk))\n",
    "print(kkk.shape)\n",
    "reshaped_array = np.reshape(kkk, (1, 24, 1))\n",
    "print(reshaped_array)\n",
    "predictions = model1.predict(reshaped_array)\n",
    "print(predictions)\n",
    " \n",
    "# original= scaler.inverse_transform(predictions)\n",
    "# print(original)\n",
    "# predictions\n",
    "# inverse_data = np.zeros((len(predictions), scaler.shape[1]))"
   ]
  },
  {
   "cell_type": "code",
   "execution_count": 65,
   "id": "8d388065",
   "metadata": {},
   "outputs": [
    {
     "name": "stdout",
     "output_type": "stream",
     "text": [
      "1/1 [==============================] - 0s 31ms/step\n",
      "1/1 [==============================] - 0s 19ms/step\n",
      "1/1 [==============================] - 0s 23ms/step\n",
      "1/1 [==============================] - 0s 18ms/step\n",
      "1/1 [==============================] - 0s 11ms/step\n",
      "1/1 [==============================] - 0s 22ms/step\n",
      "1/1 [==============================] - 0s 16ms/step\n",
      "1/1 [==============================] - 0s 24ms/step\n",
      "1/1 [==============================] - 0s 20ms/step\n",
      "1/1 [==============================] - 0s 24ms/step\n",
      "1/1 [==============================] - 0s 17ms/step\n",
      "1/1 [==============================] - 0s 33ms/step\n",
      "1/1 [==============================] - 0s 33ms/step\n",
      "1/1 [==============================] - 0s 17ms/step\n",
      "1/1 [==============================] - 0s 19ms/step\n",
      "1/1 [==============================] - 0s 32ms/step\n",
      "1/1 [==============================] - 0s 26ms/step\n",
      "1/1 [==============================] - 0s 35ms/step\n",
      "1/1 [==============================] - 0s 10ms/step\n",
      "1/1 [==============================] - 0s 23ms/step\n",
      "1/1 [==============================] - 0s 10ms/step\n",
      "1/1 [==============================] - 0s 17ms/step\n",
      "1/1 [==============================] - 0s 8ms/step\n",
      "1/1 [==============================] - 0s 21ms/step\n",
      "[array([[-0.07666707]], dtype=float32), array([[-0.5833508]], dtype=float32), array([[25.588148]], dtype=float32), array([[392.2785]], dtype=float32), array([[661.3135]], dtype=float32), array([[854.82434]], dtype=float32), array([[1015.55554]], dtype=float32), array([[1075.8792]], dtype=float32), array([[1021.60425]], dtype=float32), array([[891.7514]], dtype=float32), array([[699.6407]], dtype=float32), array([[461.90833]], dtype=float32), array([[206.21126]], dtype=float32), array([[-5.3592505]], dtype=float32), array([[0.43459487]], dtype=float32), array([[0.25480843]], dtype=float32), array([[0.04706502]], dtype=float32), array([[-0.03712416]], dtype=float32), array([[-0.05537009]], dtype=float32), array([[-0.0477618]], dtype=float32), array([[0.05007696]], dtype=float32), array([[0.15944135]], dtype=float32), array([[0.19856024]], dtype=float32), array([[0.12685478]], dtype=float32)]\n"
     ]
    }
   ],
   "source": [
    "\n",
    "input = df_scaled[78866:78890,0]  # Initial input extracted from your original scaled DataFrame\n",
    "output_scaled = []  \n",
    "output_not_scaled = [] \n",
    "\n",
    "for i in range(24):\n",
    "    # Reshape input for the model prediction\n",
    "    reshaped_array = np.reshape(input, (1, 24, 1))\n",
    "    prediction = model1.predict(reshaped_array)\n",
    "    \n",
    "    # Reshape the prediction to match the input shape if necessary\n",
    "    # Adjust the reshaping based on the actual shape of your model's output\n",
    "    prediction_reshaped = np.reshape(prediction, (1, 1))\n",
    "    input = np.reshape(input, (24, 1))  # Ensure input is in the correct shape before appending\n",
    "    # Append the new prediction at the end of the input array\n",
    "    input = np.vstack([input, prediction_reshaped])  # Stack vertically to add as a new row\n",
    "    \n",
    "    # Remove the oldest entry to maintain the sliding window of input data\n",
    "    input = input[1:, :]  # Keep the last 5 entries, including the newly added prediction\n",
    " \n",
    "    output_scaled.append(prediction)\n",
    "\n",
    "\n",
    "# print(output_scaled)  # Remains empty, uncomment if needed\n",
    "print(output_scaled)  # Print or process the predictions as \n",
    "\n",
    "\n"
   ]
  },
  {
   "cell_type": "code",
   "execution_count": 66,
   "id": "0c262722",
   "metadata": {},
   "outputs": [
    {
     "name": "stdout",
     "output_type": "stream",
     "text": [
      "this is the real scaled output\n",
      "-0.07666707\n",
      "-0.5833508\n",
      "25.588148\n",
      "392.2785\n",
      "661.3135\n",
      "854.82434\n",
      "1015.55554\n",
      "1075.8792\n",
      "1021.60425\n",
      "891.7514\n",
      "699.6407\n",
      "461.90833\n",
      "206.21126\n",
      "-5.3592505\n",
      "0.43459487\n",
      "0.25480843\n",
      "0.04706502\n",
      "-0.037124157\n",
      "-0.055370092\n",
      "-0.047761798\n",
      "0.05007696\n",
      "0.15944135\n",
      "0.19856024\n",
      "0.12685478\n"
     ]
    }
   ],
   "source": [
    "print(\"this is the real scaled output\")\n",
    "for i in output_scaled:\n",
    "    print(i[0][0])"
   ]
  },
  {
   "cell_type": "code",
   "execution_count": null,
   "id": "dc28c8eb",
   "metadata": {},
   "outputs": [],
   "source": []
  },
  {
   "cell_type": "code",
   "execution_count": null,
   "id": "2709c5a1",
   "metadata": {},
   "outputs": [],
   "source": []
  },
  {
   "cell_type": "code",
   "execution_count": null,
   "id": "2c3d49a3",
   "metadata": {},
   "outputs": [],
   "source": []
  },
  {
   "cell_type": "code",
   "execution_count": null,
   "id": "1dc124bd",
   "metadata": {},
   "outputs": [],
   "source": []
  },
  {
   "cell_type": "code",
   "execution_count": null,
   "id": "96f37ea1",
   "metadata": {},
   "outputs": [],
   "source": []
  },
  {
   "cell_type": "code",
   "execution_count": null,
   "id": "eba8093b",
   "metadata": {},
   "outputs": [],
   "source": []
  }
 ],
 "metadata": {
  "kernelspec": {
   "display_name": "Python 3 (ipykernel)",
   "language": "python",
   "name": "python3"
  },
  "language_info": {
   "codemirror_mode": {
    "name": "ipython",
    "version": 3
   },
   "file_extension": ".py",
   "mimetype": "text/x-python",
   "name": "python",
   "nbconvert_exporter": "python",
   "pygments_lexer": "ipython3",
   "version": "3.11.5"
  }
 },
 "nbformat": 4,
 "nbformat_minor": 5
}
